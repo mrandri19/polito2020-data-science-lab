{
 "cells": [
  {
   "cell_type": "code",
   "execution_count": 4,
   "metadata": {},
   "outputs": [],
   "source": [
    "import matplotlib.pyplot as plt"
   ]
  },
  {
   "cell_type": "code",
   "execution_count": 219,
   "metadata": {},
   "outputs": [],
   "source": [
    "import seaborn as sns # used for theme\n",
    "sns.set_theme()"
   ]
  },
  {
   "cell_type": "code",
   "execution_count": 230,
   "metadata": {},
   "outputs": [],
   "source": [
    "from itertools import islice"
   ]
  },
  {
   "cell_type": "code",
   "execution_count": 5,
   "metadata": {},
   "outputs": [],
   "source": [
    "from random import gauss"
   ]
  },
  {
   "cell_type": "code",
   "execution_count": 6,
   "metadata": {},
   "outputs": [],
   "source": [
    "l = [gauss(0, 1) for _ in range(500)]"
   ]
  },
  {
   "cell_type": "code",
   "execution_count": 211,
   "metadata": {},
   "outputs": [
    {
     "data": {
      "text/plain": [
       "(array([  2.,  10.,  39.,  74., 119., 108.,  76.,  39.,  25.,   8.]),\n",
       " array([-2.9685733 , -2.38880416, -1.80903503, -1.2292659 , -0.64949677,\n",
       "        -0.06972764,  0.51004149,  1.08981062,  1.66957975,  2.24934888,\n",
       "         2.82911801]),\n",
       " <BarContainer object of 10 artists>)"
      ]
     },
     "execution_count": 211,
     "metadata": {},
     "output_type": "execute_result"
    },
    {
     "data": {
      "image/png": "[encoded data removed]",
      "text/plain": [
       "<Figure size 432x288 with 1 Axes>"
      ]
     },
     "metadata": {},
     "output_type": "display_data"
    }
   ],
   "source": [
    "plt.hist(l)"
   ]
  },
  {
   "cell_type": "code",
   "execution_count": 8,
   "metadata": {},
   "outputs": [
    {
     "name": "stdout",
     "output_type": "stream",
     "text": [
      "Will not apply HSTS. The HSTS database must be a regular and non-world-writable file.\n",
      "ERROR: could not open HSTS store at '/home/andrea/.wget-hsts'. HSTS will be disabled.\n",
      "--2020-10-14 16:12:12--  https://raw.githubusercontent.com/dbdmg/data-science-lab/master/datasets/GLT_filtered.csv\n",
      "Resolving raw.githubusercontent.com (raw.githubusercontent.com)... 151.101.0.133, 151.101.64.133, 151.101.128.133, ...\n",
      "Connecting to raw.githubusercontent.com (raw.githubusercontent.com)|151.101.0.133|:443... connected.\n",
      "HTTP request sent, awaiting response... 200 OK\n",
      "Length: 12720645 (12M) [text/plain]\n",
      "Saving to: ‘GLT_filtered.csv’\n",
      "\n",
      "GLT_filtered.csv    100%[===================>]  12.13M   960KB/s    in 13s     \n",
      "\n",
      "2020-10-14 16:12:27 (942 KB/s) - ‘GLT_filtered.csv’ saved [12720645/12720645]\n",
      "\n"
     ]
    }
   ],
   "source": [
    "!wget https://raw.githubusercontent.com/dbdmg/data-science-lab/master/datasets/GLT_filtered.csv"
   ]
  },
  {
   "cell_type": "markdown",
   "metadata": {},
   "source": [
    "## 2.1 Data preprocessing on Global Land Temperature"
   ]
  },
  {
   "cell_type": "code",
   "execution_count": 9,
   "metadata": {},
   "outputs": [],
   "source": [
    "import csv"
   ]
  },
  {
   "cell_type": "code",
   "execution_count": 13,
   "metadata": {},
   "outputs": [],
   "source": [
    "with open('./GLT_filtered.csv') as f:\n",
    "    dataset = []\n",
    "    for row in csv.reader(f):\n",
    "        dataset.append(row)"
   ]
  },
  {
   "cell_type": "code",
   "execution_count": 27,
   "metadata": {},
   "outputs": [
    {
     "name": "stdout",
     "output_type": "stream",
     "text": [
      "219576\n"
     ]
    }
   ],
   "source": [
    "print(len(dataset))"
   ]
  },
  {
   "cell_type": "code",
   "execution_count": 19,
   "metadata": {},
   "outputs": [
    {
     "name": "stdout",
     "output_type": "stream",
     "text": [
      "['Date', 'AverageTemperature', 'AverageTemperatureUncertainty', 'City', 'Country', 'Latitude', 'Longitude']\n"
     ]
    }
   ],
   "source": [
    "print(dataset[0])"
   ]
  },
  {
   "cell_type": "code",
   "execution_count": 28,
   "metadata": {},
   "outputs": [
    {
     "name": "stdout",
     "output_type": "stream",
     "text": [
      "['1849-01-01', '26.704', '1.435', 'Abidjan', \"Côte D'Ivoire\", '5.63N', '3.23W']\n"
     ]
    }
   ],
   "source": [
    "print(dataset[1])"
   ]
  },
  {
   "cell_type": "markdown",
   "metadata": {},
   "source": [
    "* Date is ordinal\n",
    "* Average temperature is continuous\n",
    "* Averate temperature uncertainty is continuous\n",
    "* City is categorical (nominal)\n",
    "* Country is categorical\n",
    "* Latitude is continuous\n",
    "* Longitude is continuous"
   ]
  },
  {
   "cell_type": "code",
   "execution_count": 190,
   "metadata": {},
   "outputs": [],
   "source": [
    "temperatures = [row[1] for row in dataset[1:]]"
   ]
  },
  {
   "cell_type": "code",
   "execution_count": 191,
   "metadata": {},
   "outputs": [],
   "source": [
    "for i in range(len(temperatures)):\n",
    "    try:\n",
    "        temperatures[i] = float(temperatures[i])\n",
    "    except ValueError:\n",
    "        temperatures[i] = float('nan')"
   ]
  },
  {
   "cell_type": "code",
   "execution_count": 192,
   "metadata": {},
   "outputs": [
    {
     "data": {
      "text/plain": [
       "-26.772"
      ]
     },
     "execution_count": 192,
     "metadata": {},
     "output_type": "execute_result"
    }
   ],
   "source": [
    "min(temperatures)"
   ]
  },
  {
   "cell_type": "code",
   "execution_count": 193,
   "metadata": {},
   "outputs": [
    {
     "data": {
      "text/plain": [
       "88.00699999999999"
      ]
     },
     "execution_count": 193,
     "metadata": {},
     "output_type": "execute_result"
    }
   ],
   "source": [
    "max(temperatures)"
   ]
  },
  {
   "cell_type": "code",
   "execution_count": 194,
   "metadata": {},
   "outputs": [
    {
     "data": {
      "text/plain": [
       "0.12561083912102927"
      ]
     },
     "execution_count": 194,
     "metadata": {},
     "output_type": "execute_result"
    }
   ],
   "source": [
    "sum(map(isnan, temperatures)) / len(temperatures)"
   ]
  },
  {
   "cell_type": "code",
   "execution_count": 195,
   "metadata": {},
   "outputs": [],
   "source": [
    "from math import isnan"
   ]
  },
  {
   "cell_type": "code",
   "execution_count": 201,
   "metadata": {},
   "outputs": [],
   "source": [
    "for i in range(len(temperatures)):\n",
    "    if isnan(temperatures[i]):\n",
    "        # maybe competitive programming is useful after all...\n",
    "        j = i\n",
    "        previous = 0\n",
    "        while j >= 0:\n",
    "            if isnan(temperatures[j]):\n",
    "                j-=1\n",
    "            else:\n",
    "                previous = temperatures[j]\n",
    "                break\n",
    "        successor = 0\n",
    "        while j < len(temperatures):\n",
    "            if isnan(temperatures[j]):\n",
    "                j+=1\n",
    "            else:\n",
    "                successor = temperatures[j]\n",
    "                break\n",
    "        \n",
    "        temperatures[i] = (previous + successor) / 2"
   ]
  },
  {
   "cell_type": "code",
   "execution_count": 202,
   "metadata": {},
   "outputs": [],
   "source": [
    "assert(not any(isnan(t) for t in temperatures))"
   ]
  },
  {
   "cell_type": "code",
   "execution_count": 220,
   "metadata": {},
   "outputs": [
    {
     "data": {
      "text/plain": [
       "(array([1.8000e+01, 2.9700e+02, 8.7700e+02, 1.7350e+03, 4.0410e+03,\n",
       "        7.3520e+03, 1.1924e+04, 1.3550e+04, 2.0405e+04, 3.3491e+04,\n",
       "        4.1831e+04, 5.9772e+04, 1.8518e+04, 3.4060e+03, 6.0000e+00,\n",
       "        0.0000e+00, 0.0000e+00, 0.0000e+00, 0.0000e+00, 0.0000e+00,\n",
       "        0.0000e+00, 5.0000e+01, 5.9400e+02, 1.2660e+03, 4.4200e+02]),\n",
       " array([-26.772  , -22.18084, -17.58968, -12.99852,  -8.40736,  -3.8162 ,\n",
       "          0.77496,   5.36612,   9.95728,  14.54844,  19.1396 ,  23.73076,\n",
       "         28.32192,  32.91308,  37.50424,  42.0954 ,  46.68656,  51.27772,\n",
       "         55.86888,  60.46004,  65.0512 ,  69.64236,  74.23352,  78.82468,\n",
       "         83.41584,  88.007  ]),\n",
       " <BarContainer object of 25 artists>)"
      ]
     },
     "execution_count": 220,
     "metadata": {},
     "output_type": "execute_result"
    },
    {
     "data": {
      "image/png": "[encoded data removed]",
      "text/plain": [
       "<Figure size 432x288 with 1 Axes>"
      ]
     },
     "metadata": {},
     "output_type": "display_data"
    }
   ],
   "source": [
    "plt.hist(temperatures, bins=25)"
   ]
  },
  {
   "cell_type": "markdown",
   "metadata": {},
   "source": [
    "80 Degrees seem a lot..."
   ]
  },
  {
   "cell_type": "code",
   "execution_count": 214,
   "metadata": {},
   "outputs": [
    {
     "data": {
      "text/plain": [
       "{'coldest': [22.363000000000003, 22.377, 22.528, 22.63000000000001, 22.644],\n",
       " 'hottest': [29.923, 29.596, 29.477, 29.471, 29.471]}"
      ]
     },
     "execution_count": 214,
     "metadata": {},
     "output_type": "execute_result"
    }
   ],
   "source": [
    "def print_top_N(city, N):\n",
    "    city_temperatures = list(map(lambda i:i[1], filter(\n",
    "        lambda r: r[0][3] == city,\n",
    "        zip(dataset[1:], temperatures)\n",
    "    )))\n",
    "\n",
    "    return {\n",
    "        'coldest': sorted(city_temperatures)[:N],\n",
    "        'hottest': sorted(city_temperatures, reverse=True)[:N]\n",
    "    }\n",
    "    \n",
    "\n",
    "print_top_N('Abidjan', 5)"
   ]
  },
  {
   "cell_type": "markdown",
   "metadata": {},
   "source": [
    "## 2.2 Textual data preparation on IMDB reviews"
   ]
  },
  {
   "cell_type": "code",
   "execution_count": 221,
   "metadata": {},
   "outputs": [
    {
     "name": "stdout",
     "output_type": "stream",
     "text": [
      "Will not apply HSTS. The HSTS database must be a regular and non-world-writable file.\n",
      "ERROR: could not open HSTS store at '/home/andrea/.wget-hsts'. HSTS will be disabled.\n",
      "--2020-10-14 17:00:57--  https://raw.githubusercontent.com/dbdmg/data-science-lab/master/datasets/aclimdb_reviews_train.txt\n",
      "Resolving raw.githubusercontent.com (raw.githubusercontent.com)... 151.101.0.133, 151.101.64.133, 151.101.128.133, ...\n",
      "Connecting to raw.githubusercontent.com (raw.githubusercontent.com)|151.101.0.133|:443... connected.\n",
      "HTTP request sent, awaiting response... 200 OK\n",
      "Length: 33322169 (32M) [text/plain]\n",
      "Saving to: ‘aclimdb_reviews_train.txt’\n",
      "\n",
      "aclimdb_reviews_tra 100%[===================>]  31.78M   563KB/s    in 56s     \n",
      "\n",
      "2020-10-14 17:01:54 (577 KB/s) - ‘aclimdb_reviews_train.txt’ saved [33322169/33322169]\n",
      "\n"
     ]
    }
   ],
   "source": [
    "!wget https://raw.githubusercontent.com/dbdmg/data-science-lab/master/datasets/aclimdb_reviews_train.txt"
   ]
  },
  {
   "cell_type": "code",
   "execution_count": 260,
   "metadata": {},
   "outputs": [],
   "source": [
    "imdb = []\n",
    "with open('./aclimdb_reviews_train.txt') as f:\n",
    "    for row in islice(csv.reader(f), 1, 100_000): # Take the first 2 rows, skipping header\n",
    "        imdb.append(row[0])"
   ]
  },
  {
   "cell_type": "code",
   "execution_count": 261,
   "metadata": {},
   "outputs": [],
   "source": [
    "import string\n",
    "def tokenize(docs):\n",
    "    tokens = []\n",
    "    for doc in docs:\n",
    "        for punct in string.punctuation:\n",
    "            doc = doc.replace(punct, \" \")\n",
    "        split_doc = [token.lower() for token in doc.split(\" \") if token]\n",
    "        tokens.append(split_doc)\n",
    "        \n",
    "    return tokens"
   ]
  },
  {
   "cell_type": "code",
   "execution_count": 262,
   "metadata": {},
   "outputs": [],
   "source": [
    "imdb = tokenize(imdb)"
   ]
  },
  {
   "cell_type": "markdown",
   "metadata": {},
   "source": [
    "### TD-IDF"
   ]
  },
  {
   "cell_type": "code",
   "execution_count": 264,
   "metadata": {},
   "outputs": [],
   "source": [
    "from collections import Counter"
   ]
  },
  {
   "cell_type": "code",
   "execution_count": 284,
   "metadata": {},
   "outputs": [
    {
     "name": "stdout",
     "output_type": "stream",
     "text": [
      "CPU times: user 2.97 s, sys: 0 ns, total: 2.97 s\n",
      "Wall time: 3.07 s\n"
     ]
    }
   ],
   "source": [
    "%%time\n",
    "df = Counter()\n",
    "for review in imdb:\n",
    "    for token in review:\n",
    "        df[token] += 1"
   ]
  },
  {
   "cell_type": "code",
   "execution_count": 287,
   "metadata": {},
   "outputs": [],
   "source": [
    "import math"
   ]
  },
  {
   "cell_type": "code",
   "execution_count": 290,
   "metadata": {},
   "outputs": [],
   "source": [
    "IDF = dict()\n",
    "for (tok,df_tok) in df.items():\n",
    "    IDF[tok] = math.log(len(imdb) / df_tok)"
   ]
  },
  {
   "cell_type": "markdown",
   "metadata": {},
   "source": [
    "We see that the most-frequent words are articles, prepositions, and pronouns. And HTML newlines... `br`."
   ]
  },
  {
   "cell_type": "markdown",
   "metadata": {},
   "source": [
    "This is because we computed the frequency, inversed in then sorted ascending. Which means that the smallest inverse frequencies i.e. the most frequent are first."
   ]
  },
  {
   "cell_type": "code",
   "execution_count": 301,
   "metadata": {},
   "outputs": [
    {
     "data": {
      "text/plain": [
       "[('the', -2.600307591250224),\n",
       " ('and', -1.8816123608440078),\n",
       " ('a', -1.875524471329221),\n",
       " ('of', -1.7637851443722985),\n",
       " ('to', -1.6917033787176168),\n",
       " ('is', -1.4570323756252324),\n",
       " ('br', -1.4048314821183017),\n",
       " ('it', -1.3496096296451128),\n",
       " ('in', -1.3240571898441509),\n",
       " ('i', -1.2543274583283988)]"
      ]
     },
     "execution_count": 301,
     "metadata": {},
     "output_type": "execute_result"
    }
   ],
   "source": [
    "list(sorted(IDF.items(), key=lambda i:i[1]))[:10]"
   ]
  },
  {
   "cell_type": "markdown",
   "metadata": {},
   "source": [
    "We can see how tokens approximately follow a log-zipf distribution."
   ]
  },
  {
   "cell_type": "code",
   "execution_count": 303,
   "metadata": {},
   "outputs": [
    {
     "data": {
      "text/plain": [
       "(array([1.0000e+00, 4.0000e+00, 7.0000e+00, 6.0000e+00, 1.2000e+01,\n",
       "        1.8000e+01, 2.6000e+01, 5.4000e+01, 6.7000e+01, 1.2600e+02,\n",
       "        1.8600e+02, 3.1500e+02, 4.3800e+02, 6.8300e+02, 1.0030e+03,\n",
       "        1.4680e+03, 2.0580e+03, 2.6340e+03, 3.4750e+03, 4.8000e+03,\n",
       "        5.2940e+03, 6.4560e+03, 8.8060e+03, 9.1930e+03, 2.8797e+04]),\n",
       " array([-2.60030759, -2.09123004, -1.5821525 , -1.07307495, -0.5639974 ,\n",
       "        -0.05491985,  0.4541577 ,  0.96323524,  1.47231279,  1.98139034,\n",
       "         2.49046789,  2.99954543,  3.50862298,  4.01770053,  4.52677808,\n",
       "         5.03585563,  5.54493317,  6.05401072,  6.56308827,  7.07216582,\n",
       "         7.58124336,  8.09032091,  8.59939846,  9.10847601,  9.61755356,\n",
       "        10.1266311 ]),\n",
       " <BarContainer object of 25 artists>)"
      ]
     },
     "execution_count": 303,
     "metadata": {},
     "output_type": "execute_result"
    },
    {
     "data": {
      "image/png": "[encoded data removed]",
      "text/plain": [
       "<Figure size 432x288 with 1 Axes>"
      ]
     },
     "metadata": {},
     "output_type": "display_data"
    }
   ],
   "source": [
    "plt.hist(IDF.values(), bins=25)"
   ]
  },
  {
   "cell_type": "code",
   "execution_count": 342,
   "metadata": {},
   "outputs": [
    {
     "name": "stdout",
     "output_type": "stream",
     "text": [
      "CPU times: user 1.25 s, sys: 234 ms, total: 1.48 s\n",
      "Wall time: 1.48 s\n"
     ]
    }
   ],
   "source": [
    "%%time\n",
    "tfidf_imdb = []\n",
    "for doc in imdb:\n",
    "    tf_doc = Counter(doc)\n",
    "    tfidf_doc = {tok: TF*IDF[tok] for tok, TF in tf_doc.items()}\n",
    "    tfidf_imdb.append(tfidf_doc)"
   ]
  },
  {
   "cell_type": "code",
   "execution_count": 365,
   "metadata": {},
   "outputs": [
    {
     "data": {
      "text/plain": [
       "{'a', 'and', 'i', 'in', 'it', 'movie', 'on', 'the', 'there', 'this', 'with'}"
      ]
     },
     "execution_count": 365,
     "metadata": {},
     "output_type": "execute_result"
    }
   ],
   "source": [
    "set(tfidf_imdb[10]) & (set(tfidf_imdb[20]))"
   ]
  }
 ],
 "metadata": {
  "kernelspec": {
   "display_name": "Python 3",
   "language": "python",
   "name": "python3"
  },
  "language_info": {
   "codemirror_mode": {
    "name": "ipython",
    "version": 3
   },
   "file_extension": ".py",
   "mimetype": "text/x-python",
   "name": "python",
   "nbconvert_exporter": "python",
   "pygments_lexer": "ipython3",
   "version": "3.6.9"
  }
 },
 "nbformat": 4,
 "nbformat_minor": 4
}
