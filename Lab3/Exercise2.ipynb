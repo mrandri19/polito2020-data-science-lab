{
 "cells": [
  {
   "cell_type": "markdown",
   "metadata": {},
   "source": [
    "# 2.2 Apriori implementation "
   ]
  },
  {
   "cell_type": "code",
   "execution_count": 1,
   "metadata": {},
   "outputs": [
    {
     "data": {
      "text/plain": [
       "[['a', 'b'],\n",
       " ['b', 'c', 'd'],\n",
       " ['a', 'c', 'd', 'e'],\n",
       " ['a', 'd', 'e'],\n",
       " ['a', 'b', 'c'],\n",
       " ['a', 'b', 'c', 'd'],\n",
       " ['b', 'c'],\n",
       " ['a', 'b', 'c'],\n",
       " ['a', 'b', 'd'],\n",
       " ['b', 'c', 'e']]"
      ]
     },
     "execution_count": 1,
     "metadata": {},
     "output_type": "execute_result"
    }
   ],
   "source": [
    "a,b,c,d,e='a','b','c','d','e'\n",
    "dataset = [\n",
    "    [a,b],\n",
    "    [b,c,d],\n",
    "    [a,c,d,e],\n",
    "    [a,d,e],\n",
    "    [a,b,c],\n",
    "    [a,b,c,d],\n",
    "    [b,c],\n",
    "    [a,b,c],\n",
    "    [a,b,d],\n",
    "    [b,c,e]\n",
    "]\n",
    "dataset"
   ]
  },
  {
   "cell_type": "code",
   "execution_count": 2,
   "metadata": {},
   "outputs": [],
   "source": [
    "import itertools"
   ]
  },
  {
   "cell_type": "code",
   "execution_count": 3,
   "metadata": {},
   "outputs": [],
   "source": [
    "items = set(itertools.chain.from_iterable(dataset))"
   ]
  },
  {
   "cell_type": "code",
   "execution_count": 11,
   "metadata": {},
   "outputs": [],
   "source": [
    "def prune(k_itemsets, min_support, n):\n",
    "    lst = []\n",
    "    for k_itemset in k_itemsets:\n",
    "        support = sum(all(x in row for x in k_itemset) for row in dataset) / n\n",
    "        if support > min_support: lst.append((k_itemset, support))\n",
    "    return lst"
   ]
  },
  {
   "cell_type": "code",
   "execution_count": 19,
   "metadata": {},
   "outputs": [
    {
     "data": {
      "text/plain": [
       "[(('e',), 0.3), (('d',), 0.5), (('a',), 0.7), (('b',), 0.8), (('c',), 0.7)]"
      ]
     },
     "execution_count": 19,
     "metadata": {},
     "output_type": "execute_result"
    }
   ],
   "source": [
    "C1 = itertools.combinations(items, 1)\n",
    "L1 = prune(C1, min_support=0.1, n=len(dataset))\n",
    "L1"
   ]
  },
  {
   "cell_type": "code",
   "execution_count": 23,
   "metadata": {},
   "outputs": [],
   "source": [
    "def generate_candidates(Lk):\n",
    "    # generates Ckplus1 using Lk\n",
    "    Lk = sorted(Lk)\n",
    "    \n",
    "    \n",
    "    return\n",
    "\n",
    "\n",
    "C2 = generate_candidates(L1)\n",
    "C2"
   ]
  }
 ],
 "metadata": {
  "kernelspec": {
   "display_name": "polito-dsl",
   "language": "python",
   "name": "polito-dsl"
  },
  "language_info": {
   "codemirror_mode": {
    "name": "ipython",
    "version": 3
   },
   "file_extension": ".py",
   "mimetype": "text/x-python",
   "name": "python",
   "nbconvert_exporter": "python",
   "pygments_lexer": "ipython3",
   "version": "3.6.9"
  }
 },
 "nbformat": 4,
 "nbformat_minor": 4
}
