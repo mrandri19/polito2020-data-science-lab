{
  "nbformat": 4,
  "nbformat_minor": 0,
  "metadata": {
    "colab": {
      "name": "DSL Challenge",
      "provenance": [],
      "collapsed_sections": [],
      "toc_visible": true
    },
    "kernelspec": {
      "name": "python3",
      "display_name": "Python 3"
    }
  },
  "cells": [
    {
      "cell_type": "code",
      "metadata": {
        "id": "lge8f4amzu80"
      },
      "source": [
        "import numpy as np\r\n",
        "from tensorflow import keras as ks\r\n",
        "import pandas as pd"
      ],
      "execution_count": null,
      "outputs": []
    },
    {
      "cell_type": "markdown",
      "metadata": {
        "id": "82s9JVxf5OGe"
      },
      "source": [
        "---"
      ]
    },
    {
      "cell_type": "code",
      "metadata": {
        "id": "0fAhsm-fz2nn"
      },
      "source": [
        "from scipy.sparse import load_npz"
      ],
      "execution_count": null,
      "outputs": []
    },
    {
      "cell_type": "code",
      "metadata": {
        "colab": {
          "base_uri": "https://localhost:8080/"
        },
        "id": "e1oAnWYzvTMs",
        "outputId": "1f15b305-8d16-47ea-d221-6d2fb48fde14"
      },
      "source": [
        "from google.colab import drive\r\n",
        "drive.mount('/content/drive')"
      ],
      "execution_count": null,
      "outputs": [
        {
          "output_type": "stream",
          "text": [
            "Drive already mounted at /content/drive; to attempt to forcibly remount, call drive.mount(\"/content/drive\", force_remount=True).\n"
          ],
          "name": "stdout"
        }
      ]
    },
    {
      "cell_type": "code",
      "metadata": {
        "colab": {
          "base_uri": "https://localhost:8080/"
        },
        "id": "DzMPP0AM004c",
        "outputId": "e94f88db-1e3e-4fb5-fcd2-d0fe38503f71"
      },
      "source": [
        "X_train = load_npz('drive/MyDrive/Colab Notebooks/X_train.npz')\r\n",
        "X_train"
      ],
      "execution_count": null,
      "outputs": [
        {
          "output_type": "execute_result",
          "data": {
            "text/plain": [
              "<63768x63822 sparse matrix of type '<class 'numpy.float64'>'\n",
              "\twith 1992232 stored elements in Compressed Sparse Row format>"
            ]
          },
          "metadata": {
            "tags": []
          },
          "execution_count": 112
        }
      ]
    },
    {
      "cell_type": "code",
      "metadata": {
        "colab": {
          "base_uri": "https://localhost:8080/"
        },
        "id": "JG_4vI0a1J6T",
        "outputId": "34474c7d-996c-4791-ae33-9ab104f4337b"
      },
      "source": [
        "X_test = load_npz('drive/MyDrive/Colab Notebooks/X_test.npz')\r\n",
        "X_test"
      ],
      "execution_count": null,
      "outputs": [
        {
          "output_type": "execute_result",
          "data": {
            "text/plain": [
              "<21257x63822 sparse matrix of type '<class 'numpy.float64'>'\n",
              "\twith 651895 stored elements in Compressed Sparse Row format>"
            ]
          },
          "metadata": {
            "tags": []
          },
          "execution_count": 113
        }
      ]
    },
    {
      "cell_type": "code",
      "metadata": {
        "colab": {
          "base_uri": "https://localhost:8080/"
        },
        "id": "4IbKoV4U02yE",
        "outputId": "bb6eab4d-0e20-4b6f-fa72-ff9640abc008"
      },
      "source": [
        "y_train = np.load('drive/MyDrive/Colab Notebooks/y_train.npy')\r\n",
        "y_train.shape"
      ],
      "execution_count": null,
      "outputs": [
        {
          "output_type": "execute_result",
          "data": {
            "text/plain": [
              "(63768,)"
            ]
          },
          "metadata": {
            "tags": []
          },
          "execution_count": 114
        }
      ]
    },
    {
      "cell_type": "code",
      "metadata": {
        "colab": {
          "base_uri": "https://localhost:8080/"
        },
        "id": "wXsaOiDD08Lr",
        "outputId": "e437bade-a762-451a-8e46-17f2d35b3ce6"
      },
      "source": [
        "y_test = np.load('drive/MyDrive/Colab Notebooks/y_test.npy')\r\n",
        "y_test.shape"
      ],
      "execution_count": null,
      "outputs": [
        {
          "output_type": "execute_result",
          "data": {
            "text/plain": [
              "(21257,)"
            ]
          },
          "metadata": {
            "tags": []
          },
          "execution_count": 115
        }
      ]
    },
    {
      "cell_type": "markdown",
      "metadata": {
        "id": "G8hQfYH41dMr"
      },
      "source": [
        "---\r\n",
        "\r\n",
        "## Keras"
      ]
    },
    {
      "cell_type": "code",
      "metadata": {
        "id": "yvvEfnaK2ip_"
      },
      "source": [
        "from keras import backend as K\r\n",
        "def r_square(y_true, y_pred):\r\n",
        "    SS_res =  K.sum(K.square(y_true - y_pred)) \r\n",
        "    SS_tot = K.sum(K.square(y_true - K.mean(y_true))) \r\n",
        "    return ( 1 - SS_res/(SS_tot + K.epsilon()) )"
      ],
      "execution_count": null,
      "outputs": []
    },
    {
      "cell_type": "code",
      "metadata": {
        "id": "Ur_5-bMu2FxD",
        "colab": {
          "base_uri": "https://localhost:8080/"
        },
        "outputId": "29608c4c-b8bf-4508-f79e-b17d54d1f81e"
      },
      "source": [
        "from keras.layers import Dense, Input\r\n",
        "from keras.models import Model\r\n",
        "\r\n",
        "model_in = Input(shape=(63822), sparse=True)\r\n",
        "out = Dense(512, activation='relu')(model_in)\r\n",
        "out = Dense(192, activation='relu')(out)\r\n",
        "out = Dense(64, activation='relu')(out)\r\n",
        "out = Dense(1)(out)\r\n",
        "model = Model(model_in, out)\r\n",
        "\r\n",
        "model.compile(loss='mean_squared_error', optimizer=ks.optimizers.Adam(lr=3e-3), metrics=[r_square])\r\n",
        "model.summary()"
      ],
      "execution_count": null,
      "outputs": [
        {
          "output_type": "stream",
          "text": [
            "Model: \"model_12\"\n",
            "_________________________________________________________________\n",
            "Layer (type)                 Output Shape              Param #   \n",
            "=================================================================\n",
            "input_13 (InputLayer)        [(None, 63822)]           0         \n",
            "_________________________________________________________________\n",
            "dense_48 (Dense)             (None, 512)               32677376  \n",
            "_________________________________________________________________\n",
            "dense_49 (Dense)             (None, 192)               98496     \n",
            "_________________________________________________________________\n",
            "dense_50 (Dense)             (None, 64)                12352     \n",
            "_________________________________________________________________\n",
            "dense_51 (Dense)             (None, 1)                 65        \n",
            "=================================================================\n",
            "Total params: 32,788,289\n",
            "Trainable params: 32,788,289\n",
            "Non-trainable params: 0\n",
            "_________________________________________________________________\n"
          ],
          "name": "stdout"
        }
      ]
    },
    {
      "cell_type": "code",
      "metadata": {
        "id": "0JfUCS6h7YU7"
      },
      "source": [
        "from keras.callbacks import EarlyStopping"
      ],
      "execution_count": null,
      "outputs": []
    },
    {
      "cell_type": "code",
      "metadata": {
        "id": "CeZ5Sx4e7f7K"
      },
      "source": [
        "es = EarlyStopping(monitor='val_r_square', mode='max', patience=2, restore_best_weights=True)"
      ],
      "execution_count": null,
      "outputs": []
    },
    {
      "cell_type": "code",
      "metadata": {
        "colab": {
          "base_uri": "https://localhost:8080/"
        },
        "id": "P8RYky_s2rCZ",
        "outputId": "cc0cfb38-cd7e-4071-bcb2-a100e7370cd9"
      },
      "source": [
        "model.fit(x=X_train, y=y_train, batch_size=128, validation_data=(X_test, y_test), callbacks=[es], epochs=1_000)"
      ],
      "execution_count": null,
      "outputs": [
        {
          "output_type": "stream",
          "text": [
            "Epoch 1/1000\n",
            "499/499 [==============================] - 31s 60ms/step - loss: 266.6169 - r_square: -0.8187 - val_loss: 45.4460 - val_r_square: 0.6762\n",
            "Epoch 2/1000\n",
            "499/499 [==============================] - 31s 62ms/step - loss: 27.1971 - r_square: 0.8057 - val_loss: 41.8835 - val_r_square: 0.7014\n",
            "Epoch 3/1000\n",
            "499/499 [==============================] - 29s 58ms/step - loss: 15.6681 - r_square: 0.8889 - val_loss: 39.3233 - val_r_square: 0.7194\n",
            "Epoch 4/1000\n",
            "499/499 [==============================] - 31s 62ms/step - loss: 11.1338 - r_square: 0.9202 - val_loss: 38.1920 - val_r_square: 0.7269\n",
            "Epoch 5/1000\n",
            "499/499 [==============================] - 29s 58ms/step - loss: 8.5906 - r_square: 0.9377 - val_loss: 37.9481 - val_r_square: 0.7286\n",
            "Epoch 6/1000\n",
            "499/499 [==============================] - 31s 63ms/step - loss: 7.0054 - r_square: 0.9498 - val_loss: 37.5996 - val_r_square: 0.7315\n",
            "Epoch 7/1000\n",
            "499/499 [==============================] - 30s 60ms/step - loss: 5.7658 - r_square: 0.9586 - val_loss: 39.5524 - val_r_square: 0.7173\n",
            "Epoch 8/1000\n",
            "499/499 [==============================] - 29s 59ms/step - loss: 5.0626 - r_square: 0.9641 - val_loss: 37.8808 - val_r_square: 0.7294\n"
          ],
          "name": "stdout"
        },
        {
          "output_type": "execute_result",
          "data": {
            "text/plain": [
              "<tensorflow.python.keras.callbacks.History at 0x7faa51bf0e48>"
            ]
          },
          "metadata": {
            "tags": []
          },
          "execution_count": 120
        }
      ]
    },
    {
      "cell_type": "code",
      "metadata": {
        "colab": {
          "base_uri": "https://localhost:8080/"
        },
        "id": "cho_2QLrLdQv",
        "outputId": "7b849012-d411-4329-c95b-a5b84129af3c"
      },
      "source": [
        "model.fit(x=X_train, y=y_train, batch_size=256, validation_data=(X_test, y_test), callbacks=[es], epochs=1_000)"
      ],
      "execution_count": null,
      "outputs": [
        {
          "output_type": "stream",
          "text": [
            "Epoch 1/1000\n",
            "250/250 [==============================] - 16s 65ms/step - loss: 13.4508 - r_square: 0.9049 - val_loss: 36.2998 - val_r_square: 0.7437\n",
            "Epoch 2/1000\n",
            "250/250 [==============================] - 18s 70ms/step - loss: 4.7117 - r_square: 0.9666 - val_loss: 35.1279 - val_r_square: 0.7516\n",
            "Epoch 3/1000\n",
            "250/250 [==============================] - 16s 63ms/step - loss: 2.3563 - r_square: 0.9833 - val_loss: 35.3096 - val_r_square: 0.7503\n",
            "Epoch 4/1000\n",
            "250/250 [==============================] - 16s 63ms/step - loss: 1.5573 - r_square: 0.9889 - val_loss: 36.5672 - val_r_square: 0.7417\n"
          ],
          "name": "stdout"
        },
        {
          "output_type": "execute_result",
          "data": {
            "text/plain": [
              "<tensorflow.python.keras.callbacks.History at 0x7faa51b8e3c8>"
            ]
          },
          "metadata": {
            "tags": []
          },
          "execution_count": 122
        }
      ]
    },
    {
      "cell_type": "code",
      "metadata": {
        "colab": {
          "base_uri": "https://localhost:8080/"
        },
        "id": "_xBgXRhiP6ew",
        "outputId": "c6e7bd5c-0b7e-4fb4-99ee-1510e39379bb"
      },
      "source": [
        "model.fit(x=X_train, y=y_train, batch_size=512, validation_data=(X_test, y_test), callbacks=[es], epochs=1_000)"
      ],
      "execution_count": null,
      "outputs": [
        {
          "output_type": "stream",
          "text": [
            "Epoch 1/1000\n",
            "125/125 [==============================] - 9s 73ms/step - loss: 2.3428 - r_square: 0.9835 - val_loss: 35.0018 - val_r_square: 0.7531\n",
            "Epoch 2/1000\n",
            "125/125 [==============================] - 9s 75ms/step - loss: 1.3013 - r_square: 0.9908 - val_loss: 35.1682 - val_r_square: 0.7520\n",
            "Epoch 3/1000\n",
            "125/125 [==============================] - 9s 75ms/step - loss: 0.8671 - r_square: 0.9939 - val_loss: 35.3560 - val_r_square: 0.7507\n"
          ],
          "name": "stdout"
        },
        {
          "output_type": "execute_result",
          "data": {
            "text/plain": [
              "<tensorflow.python.keras.callbacks.History at 0x7faa51b05470>"
            ]
          },
          "metadata": {
            "tags": []
          },
          "execution_count": 126
        }
      ]
    },
    {
      "cell_type": "code",
      "metadata": {
        "id": "NdFzcoV5QEPW"
      },
      "source": [
        "model.save('drive/MyDrive/Colab Notebooks/my_model.h5')"
      ],
      "execution_count": null,
      "outputs": []
    },
    {
      "cell_type": "markdown",
      "metadata": {
        "id": "rNXnjDDS4wjE"
      },
      "source": [
        "---"
      ]
    },
    {
      "cell_type": "code",
      "metadata": {
        "colab": {
          "base_uri": "https://localhost:8080/"
        },
        "id": "flnc6nxm3kK7",
        "outputId": "fbd5e1ba-6f0b-4e58-f5c2-f11cd885645f"
      },
      "source": [
        "X_eval = load_npz('drive/MyDrive/Colab Notebooks/X_eval.npz')\r\n",
        "X_eval"
      ],
      "execution_count": null,
      "outputs": [
        {
          "output_type": "execute_result",
          "data": {
            "text/plain": [
              "<30186x63822 sparse matrix of type '<class 'numpy.float64'>'\n",
              "\twith 932703 stored elements in Compressed Sparse Row format>"
            ]
          },
          "metadata": {
            "tags": []
          },
          "execution_count": 123
        }
      ]
    },
    {
      "cell_type": "code",
      "metadata": {
        "id": "pto4zqcl3weJ"
      },
      "source": [
        "y_eval = model.predict(X_eval)"
      ],
      "execution_count": null,
      "outputs": []
    },
    {
      "cell_type": "code",
      "metadata": {
        "id": "HTISP8Qb3-rY"
      },
      "source": [
        "pd.DataFrame(y_eval, columns=['Predicted']).to_csv('output.csv', index_label='Id')"
      ],
      "execution_count": null,
      "outputs": []
    }
  ]
}