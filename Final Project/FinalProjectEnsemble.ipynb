{
 "cells": [
  {
   "cell_type": "code",
   "execution_count": 3,
   "metadata": {},
   "outputs": [],
   "source": [
    "import pandas as pd\n",
    "import seaborn as sns\n",
    "import matplotlib.pyplot as plt\n",
    "import numpy as np\n",
    "%config InlineBackend.figure_format = 'retina'\n",
    "sns.set_theme()"
   ]
  },
  {
   "cell_type": "code",
   "execution_count": 4,
   "metadata": {},
   "outputs": [
    {
     "data": {
      "text/html": [
       "<div>\n",
       "<style scoped>\n",
       "    .dataframe tbody tr th:only-of-type {\n",
       "        vertical-align: middle;\n",
       "    }\n",
       "\n",
       "    .dataframe tbody tr th {\n",
       "        vertical-align: top;\n",
       "    }\n",
       "\n",
       "    .dataframe thead th {\n",
       "        text-align: right;\n",
       "    }\n",
       "</style>\n",
       "<table border=\"1\" class=\"dataframe\">\n",
       "  <thead>\n",
       "    <tr style=\"text-align: right;\">\n",
       "      <th></th>\n",
       "      <th>country</th>\n",
       "      <th>description</th>\n",
       "      <th>designation</th>\n",
       "      <th>province</th>\n",
       "      <th>region_1</th>\n",
       "      <th>region_2</th>\n",
       "      <th>variety</th>\n",
       "      <th>winery</th>\n",
       "      <th>quality</th>\n",
       "    </tr>\n",
       "  </thead>\n",
       "  <tbody>\n",
       "    <tr>\n",
       "      <th>0</th>\n",
       "      <td>France</td>\n",
       "      <td>A creamed pear wine, with an attractive tang o...</td>\n",
       "      <td>Brut Blanc de Blancs</td>\n",
       "      <td>Alsace</td>\n",
       "      <td>Crémant d'Alsace</td>\n",
       "      <td>UNKNOWN_region_2</td>\n",
       "      <td>Pinot Blanc</td>\n",
       "      <td>Lucien Albrecht</td>\n",
       "      <td>45.0</td>\n",
       "    </tr>\n",
       "    <tr>\n",
       "      <th>1</th>\n",
       "      <td>US</td>\n",
       "      <td>Simple and dry, this Cabernet has modest black...</td>\n",
       "      <td>UNKNOWN_designation</td>\n",
       "      <td>California</td>\n",
       "      <td>Paso Robles</td>\n",
       "      <td>Central Coast</td>\n",
       "      <td>Cabernet Sauvignon</td>\n",
       "      <td>Castle Rock</td>\n",
       "      <td>31.0</td>\n",
       "    </tr>\n",
       "    <tr>\n",
       "      <th>2</th>\n",
       "      <td>US</td>\n",
       "      <td>This lovely wine captures the floral, perfumed...</td>\n",
       "      <td>UNKNOWN_designation</td>\n",
       "      <td>Oregon</td>\n",
       "      <td>Willamette Valley</td>\n",
       "      <td>Willamette Valley</td>\n",
       "      <td>Gewürztraminer</td>\n",
       "      <td>Château Bianca</td>\n",
       "      <td>35.0</td>\n",
       "    </tr>\n",
       "    <tr>\n",
       "      <th>3</th>\n",
       "      <td>Portugal</td>\n",
       "      <td>The aromas are the thing here, as so often wit...</td>\n",
       "      <td>UNKNOWN_designation</td>\n",
       "      <td>Alentejano</td>\n",
       "      <td>UNKNOWN_region_1</td>\n",
       "      <td>UNKNOWN_region_2</td>\n",
       "      <td>Touriga Nacional</td>\n",
       "      <td>Herdade do Esporão</td>\n",
       "      <td>41.0</td>\n",
       "    </tr>\n",
       "    <tr>\n",
       "      <th>4</th>\n",
       "      <td>Italy</td>\n",
       "      <td>This is an interesting, outright strange wine ...</td>\n",
       "      <td>Natì</td>\n",
       "      <td>Southern Italy</td>\n",
       "      <td>Pompeiano</td>\n",
       "      <td>UNKNOWN_region_2</td>\n",
       "      <td>Coda di Volpe</td>\n",
       "      <td>Sorrentino</td>\n",
       "      <td>37.0</td>\n",
       "    </tr>\n",
       "  </tbody>\n",
       "</table>\n",
       "</div>"
      ],
      "text/plain": [
       "    country                                        description  \\\n",
       "0    France  A creamed pear wine, with an attractive tang o...   \n",
       "1        US  Simple and dry, this Cabernet has modest black...   \n",
       "2        US  This lovely wine captures the floral, perfumed...   \n",
       "3  Portugal  The aromas are the thing here, as so often wit...   \n",
       "4     Italy  This is an interesting, outright strange wine ...   \n",
       "\n",
       "            designation        province           region_1           region_2  \\\n",
       "0  Brut Blanc de Blancs          Alsace   Crémant d'Alsace   UNKNOWN_region_2   \n",
       "1   UNKNOWN_designation      California        Paso Robles      Central Coast   \n",
       "2   UNKNOWN_designation          Oregon  Willamette Valley  Willamette Valley   \n",
       "3   UNKNOWN_designation      Alentejano   UNKNOWN_region_1   UNKNOWN_region_2   \n",
       "4                  Natì  Southern Italy          Pompeiano   UNKNOWN_region_2   \n",
       "\n",
       "              variety              winery  quality  \n",
       "0         Pinot Blanc     Lucien Albrecht     45.0  \n",
       "1  Cabernet Sauvignon         Castle Rock     31.0  \n",
       "2      Gewürztraminer      Château Bianca     35.0  \n",
       "3    Touriga Nacional  Herdade do Esporão     41.0  \n",
       "4       Coda di Volpe          Sorrentino     37.0  "
      ]
     },
     "execution_count": 4,
     "metadata": {},
     "output_type": "execute_result"
    }
   ],
   "source": [
    "dtypes = {\n",
    "    'country': 'category',\n",
    "    'province': 'category',\n",
    "    'variety': 'category',\n",
    "    'region_1': 'category',\n",
    "    'region_2': 'category',\n",
    "    \n",
    "    'winery': 'category',\n",
    "    'designation': 'category',\n",
    "    \n",
    "    'description': 'str',\n",
    "\n",
    "    'quality': 'float'\n",
    "}\n",
    "categorical_columns = [k for k,t in dtypes.items() if t=='category']\n",
    "df = pd.read_csv('../datasets/competition_dataset/dev.tsv', sep='\\t', dtype=dtypes,\n",
    "                 usecols=dtypes.keys())\n",
    "\n",
    "df = df.drop_duplicates().dropna(subset=['country', 'province'])\n",
    "\n",
    "for col in categorical_columns:\n",
    "    unk_cat = f\"UNKNOWN_{col}\"\n",
    "    df[col] = df[col].cat.add_categories(unk_cat).fillna(unk_cat)\n",
    "\n",
    "assert len(df) == 85025, \"we droppet more that we should have\"\n",
    "\n",
    "df.head()"
   ]
  },
  {
   "cell_type": "markdown",
   "metadata": {},
   "source": [
    "---"
   ]
  },
  {
   "cell_type": "code",
   "execution_count": 5,
   "metadata": {},
   "outputs": [],
   "source": [
    "from gensim.sklearn_api import W2VTransformer"
   ]
  },
  {
   "cell_type": "code",
   "execution_count": 48,
   "metadata": {},
   "outputs": [],
   "source": [
    "from nltk import word_tokenize"
   ]
  },
  {
   "cell_type": "code",
   "execution_count": 49,
   "metadata": {},
   "outputs": [
    {
     "name": "stdout",
     "output_type": "stream",
     "text": [
      "CPU times: user 53.3 s, sys: 423 ms, total: 53.8 s\n",
      "Wall time: 53.8 s\n"
     ]
    }
   ],
   "source": [
    "%%time\n",
    "wine_corpus = df.description.append(df_eval.description).map(lambda s: word_tokenize(s.lower())).tolist()"
   ]
  },
  {
   "cell_type": "code",
   "execution_count": 50,
   "metadata": {},
   "outputs": [
    {
     "name": "stdout",
     "output_type": "stream",
     "text": [
      "CPU times: user 1min 9s, sys: 596 ms, total: 1min 10s\n",
      "Wall time: 30.5 s\n"
     ]
    }
   ],
   "source": [
    "%%time\n",
    "w2v_trans = W2VTransformer(size=300, min_count=1, seed=1).fit(wine_corpus)"
   ]
  },
  {
   "cell_type": "code",
   "execution_count": 51,
   "metadata": {},
   "outputs": [
    {
     "name": "stdout",
     "output_type": "stream",
     "text": [
      "CPU times: user 50.7 s, sys: 166 ms, total: 50.9 s\n",
      "Wall time: 50.9 s\n"
     ]
    }
   ],
   "source": [
    "%%time\n",
    "# TODO(Andrea): This is terrible, handle out-of-vocabulary words the correct way    \n",
    "df['wv'] = df.description.map(lambda s: word_tokenize(s.lower())).map(w2v_trans.transform).map(lambda v: v.sum(axis=0))"
   ]
  },
  {
   "cell_type": "code",
   "execution_count": 52,
   "metadata": {},
   "outputs": [
    {
     "name": "stderr",
     "output_type": "stream",
     "text": [
      "/home/andrea/venv-environments/polito-dsl/lib/python3.6/site-packages/ipykernel_launcher.py:1: DeprecationWarning: Call to deprecated `most_similar` (Method will be removed in 4.0.0, use self.wv.most_similar() instead).\n",
      "  \"\"\"Entry point for launching an IPython kernel.\n"
     ]
    },
    {
     "data": {
      "text/plain": [
       "[('acids', 0.6941390037536621),\n",
       " ('acidity', 0.6646442413330078),\n",
       " ('acidic', 0.5058441162109375),\n",
       " ('proportion', 0.4843388795852661),\n",
       " ('grip', 0.48192131519317627),\n",
       " ('octane', 0.47412410378456116),\n",
       " ('lemony-clean', 0.4724220037460327),\n",
       " ('alcohol', 0.4711449146270752),\n",
       " ('toned', 0.4631137251853943),\n",
       " ('crispness', 0.4410700798034668)]"
      ]
     },
     "execution_count": 52,
     "metadata": {},
     "output_type": "execute_result"
    }
   ],
   "source": [
    "w2v_trans.gensim_model.most_similar('acid')"
   ]
  },
  {
   "cell_type": "markdown",
   "metadata": {},
   "source": [
    "---"
   ]
  },
  {
   "cell_type": "code",
   "execution_count": 53,
   "metadata": {},
   "outputs": [],
   "source": [
    "from sklearn.model_selection import train_test_split\n",
    "\n",
    "X_train, X_test, y_train, y_test = train_test_split(df.drop('quality', axis=1), df.quality, random_state=42)"
   ]
  },
  {
   "cell_type": "code",
   "execution_count": 54,
   "metadata": {},
   "outputs": [],
   "source": [
    "from sklearn.preprocessing import OneHotEncoder"
   ]
  },
  {
   "cell_type": "code",
   "execution_count": 55,
   "metadata": {},
   "outputs": [],
   "source": [
    "from sklearn.feature_extraction.text import TfidfVectorizer"
   ]
  },
  {
   "cell_type": "code",
   "execution_count": 56,
   "metadata": {},
   "outputs": [],
   "source": [
    "from nltk.corpus import stopwords"
   ]
  },
  {
   "cell_type": "code",
   "execution_count": 57,
   "metadata": {},
   "outputs": [],
   "source": [
    "from sklearn.preprocessing import FunctionTransformer"
   ]
  },
  {
   "cell_type": "code",
   "execution_count": 58,
   "metadata": {},
   "outputs": [
    {
     "name": "stdout",
     "output_type": "stream",
     "text": [
      "CPU times: user 749 µs, sys: 79 µs, total: 828 µs\n",
      "Wall time: 504 µs\n"
     ]
    }
   ],
   "source": [
    "%%time\n",
    "from sklearn.pipeline import Pipeline\n",
    "from sklearn.compose import ColumnTransformer\n",
    "column_trans = ColumnTransformer([\n",
    "        ('text_trans', TfidfVectorizer(stop_words=stopwords.words('english')), 'description'),\n",
    "        ('w2v_trans', FunctionTransformer(func=lambda X: np.stack(X.map(lambda x: x / 100)), check_inverse=False), 'wv'),\n",
    "        ('cat_trans', OneHotEncoder(handle_unknown='ignore'), categorical_columns)\n",
    "    ],\n",
    "    remainder='drop'\n",
    ")\n",
    "\n",
    "# column_trans.fit_transform(X_train.head()).shape, \\\n",
    "# column_trans.transformers[0][1].fit_transform(X_train.description.head()).shape, \\\n",
    "# column_trans.transformers[1][1].fit_transform(X_train.wv.head()).shape, \\\n",
    "# column_trans.transformers[2][1].fit_transform(X_train[categorical_columns].head()).shape"
   ]
  },
  {
   "cell_type": "code",
   "execution_count": 59,
   "metadata": {},
   "outputs": [],
   "source": [
    "from sklearn.compose import TransformedTargetRegressor"
   ]
  },
  {
   "cell_type": "code",
   "execution_count": 60,
   "metadata": {},
   "outputs": [],
   "source": [
    "from sklearn.linear_model import Ridge"
   ]
  },
  {
   "cell_type": "code",
   "execution_count": 61,
   "metadata": {},
   "outputs": [],
   "source": [
    "from sklearn.preprocessing import StandardScaler"
   ]
  },
  {
   "cell_type": "code",
   "execution_count": 62,
   "metadata": {},
   "outputs": [],
   "source": [
    "from sklearn.model_selection import cross_validate\n",
    "\n",
    "reg = Pipeline(\n",
    "    steps=[\n",
    "        ('column_trans', column_trans),\n",
    "        ('reg', Ridge(random_state=42))\n",
    "    ]\n",
    ")"
   ]
  },
  {
   "cell_type": "code",
   "execution_count": 63,
   "metadata": {},
   "outputs": [
    {
     "name": "stderr",
     "output_type": "stream",
     "text": [
      "[Parallel(n_jobs=-1)]: Using backend LokyBackend with 4 concurrent workers.\n"
     ]
    },
    {
     "name": "stdout",
     "output_type": "stream",
     "text": [
      "Mean R² score: 0.740 ± 0.010\n"
     ]
    },
    {
     "name": "stderr",
     "output_type": "stream",
     "text": [
      "[Parallel(n_jobs=-1)]: Done   5 out of   5 | elapsed:   54.7s finished\n"
     ]
    }
   ],
   "source": [
    "scores = cross_validate(reg, X_train, y_train, return_estimator=True, scoring='r2', n_jobs=-1, verbose=True)\n",
    "print(f\"Mean R² score: {scores['test_score'].mean():.3f} ± {scores['test_score'].std():.3f}\")"
   ]
  },
  {
   "cell_type": "markdown",
   "metadata": {},
   "source": [
    "---"
   ]
  },
  {
   "cell_type": "code",
   "execution_count": 64,
   "metadata": {},
   "outputs": [
    {
     "data": {
      "text/html": [
       "<div>\n",
       "<style scoped>\n",
       "    .dataframe tbody tr th:only-of-type {\n",
       "        vertical-align: middle;\n",
       "    }\n",
       "\n",
       "    .dataframe tbody tr th {\n",
       "        vertical-align: top;\n",
       "    }\n",
       "\n",
       "    .dataframe thead th {\n",
       "        text-align: right;\n",
       "    }\n",
       "</style>\n",
       "<table border=\"1\" class=\"dataframe\">\n",
       "  <thead>\n",
       "    <tr style=\"text-align: right;\">\n",
       "      <th></th>\n",
       "      <th>country</th>\n",
       "      <th>description</th>\n",
       "      <th>designation</th>\n",
       "      <th>province</th>\n",
       "      <th>region_1</th>\n",
       "      <th>region_2</th>\n",
       "      <th>variety</th>\n",
       "      <th>winery</th>\n",
       "      <th>wv</th>\n",
       "    </tr>\n",
       "  </thead>\n",
       "  <tbody>\n",
       "    <tr>\n",
       "      <th>0</th>\n",
       "      <td>US</td>\n",
       "      <td>Strong blueberry and black-cherry aromas mesh ...</td>\n",
       "      <td>Alliage</td>\n",
       "      <td>California</td>\n",
       "      <td>Santa Cruz Mountains</td>\n",
       "      <td>Central Coast</td>\n",
       "      <td>Cabernet Sauvignon</td>\n",
       "      <td>Byington</td>\n",
       "      <td>[8.146894, 4.923196, -13.609875, -25.412968, -...</td>\n",
       "    </tr>\n",
       "    <tr>\n",
       "      <th>1</th>\n",
       "      <td>Germany</td>\n",
       "      <td>Lush and decadent, with intensely sweet notes ...</td>\n",
       "      <td>Graacher Himmelreich Vat 69 Eiswein</td>\n",
       "      <td>Mosel</td>\n",
       "      <td>UNKNOWN_region_1</td>\n",
       "      <td>UNKNOWN_region_2</td>\n",
       "      <td>Riesling</td>\n",
       "      <td>S.A. Prüm</td>\n",
       "      <td>[-2.2142732, 11.474023, -9.733415, -25.079437,...</td>\n",
       "    </tr>\n",
       "    <tr>\n",
       "      <th>2</th>\n",
       "      <td>Spain</td>\n",
       "      <td>Leather, mint and wet-dog aromas along with an...</td>\n",
       "      <td>Cachito Mio</td>\n",
       "      <td>Northern Spain</td>\n",
       "      <td>Toro</td>\n",
       "      <td>UNKNOWN_region_2</td>\n",
       "      <td>Tinta de Toro</td>\n",
       "      <td>La Casa Maguila</td>\n",
       "      <td>[9.008783, 5.7527194, -14.74435, -32.200657, 1...</td>\n",
       "    </tr>\n",
       "    <tr>\n",
       "      <th>3</th>\n",
       "      <td>France</td>\n",
       "      <td>92-94 Barrel sample. Wood dominant, smooth tan...</td>\n",
       "      <td>Barrel sample</td>\n",
       "      <td>Bordeaux</td>\n",
       "      <td>Saint-Julien</td>\n",
       "      <td>UNKNOWN_region_2</td>\n",
       "      <td>Bordeaux-style Red Blend</td>\n",
       "      <td>Château Branaire-Ducru</td>\n",
       "      <td>[-4.668662, -2.1214767, -1.6580575, -11.93123,...</td>\n",
       "    </tr>\n",
       "    <tr>\n",
       "      <th>4</th>\n",
       "      <td>France</td>\n",
       "      <td>A lean, austere wine, maybe the result of the ...</td>\n",
       "      <td>Tradition</td>\n",
       "      <td>Southwest France</td>\n",
       "      <td>Cahors</td>\n",
       "      <td>UNKNOWN_region_2</td>\n",
       "      <td>Malbec</td>\n",
       "      <td>Château les Croisille</td>\n",
       "      <td>[6.66781, -1.803279, 0.09208423, -21.971687, 8...</td>\n",
       "    </tr>\n",
       "    <tr>\n",
       "      <th>...</th>\n",
       "      <td>...</td>\n",
       "      <td>...</td>\n",
       "      <td>...</td>\n",
       "      <td>...</td>\n",
       "      <td>...</td>\n",
       "      <td>...</td>\n",
       "      <td>...</td>\n",
       "      <td>...</td>\n",
       "      <td>...</td>\n",
       "    </tr>\n",
       "    <tr>\n",
       "      <th>30181</th>\n",
       "      <td>US</td>\n",
       "      <td>This is very good in a Napa-does-Bordeaux styl...</td>\n",
       "      <td>Blueprint</td>\n",
       "      <td>California</td>\n",
       "      <td>Napa Valley</td>\n",
       "      <td>Napa</td>\n",
       "      <td>Bordeaux-style Red Blend</td>\n",
       "      <td>Lail</td>\n",
       "      <td>[-0.7932334, -3.2884083, -3.981152, -12.333408...</td>\n",
       "    </tr>\n",
       "    <tr>\n",
       "      <th>30182</th>\n",
       "      <td>US</td>\n",
       "      <td>You might mistake this for a good Dry Creek Zi...</td>\n",
       "      <td>UNKNOWN_designation</td>\n",
       "      <td>California</td>\n",
       "      <td>Dry Creek Valley</td>\n",
       "      <td>Sonoma</td>\n",
       "      <td>Cabernet Franc</td>\n",
       "      <td>Mounts</td>\n",
       "      <td>[-1.826087, 8.81035, -4.528069, -31.21045, 9.4...</td>\n",
       "    </tr>\n",
       "    <tr>\n",
       "      <th>30183</th>\n",
       "      <td>US</td>\n",
       "      <td>A Southern Rhône-style blend of Syrah, Grenach...</td>\n",
       "      <td>Cuvee Christie</td>\n",
       "      <td>California</td>\n",
       "      <td>Santa Barbara County</td>\n",
       "      <td>Central Coast</td>\n",
       "      <td>G-S-M</td>\n",
       "      <td>Tercero</td>\n",
       "      <td>[-11.101473, -0.344439, -8.516296, -30.760334,...</td>\n",
       "    </tr>\n",
       "    <tr>\n",
       "      <th>30184</th>\n",
       "      <td>South Africa</td>\n",
       "      <td>Fresh grass, vibrant citrus and tart gooseberr...</td>\n",
       "      <td>Polkadraai</td>\n",
       "      <td>Polkadraai Hills</td>\n",
       "      <td>UNKNOWN_region_1</td>\n",
       "      <td>UNKNOWN_region_2</td>\n",
       "      <td>Chenin Blanc-Sauvignon Blanc</td>\n",
       "      <td>Stellenbosch Hills</td>\n",
       "      <td>[-5.795786, 0.09900263, -6.9640703, -23.07708,...</td>\n",
       "    </tr>\n",
       "    <tr>\n",
       "      <th>30185</th>\n",
       "      <td>US</td>\n",
       "      <td>This is one of the best California Rieslings a...</td>\n",
       "      <td>La Estancia Vineyard</td>\n",
       "      <td>California</td>\n",
       "      <td>Santa Lucia Highlands</td>\n",
       "      <td>Central Coast</td>\n",
       "      <td>Riesling</td>\n",
       "      <td>Pessagno</td>\n",
       "      <td>[-1.0934166, 7.781248, -2.6222486, -14.584054,...</td>\n",
       "    </tr>\n",
       "  </tbody>\n",
       "</table>\n",
       "<p>30186 rows × 9 columns</p>\n",
       "</div>"
      ],
      "text/plain": [
       "            country                                        description  \\\n",
       "0                US  Strong blueberry and black-cherry aromas mesh ...   \n",
       "1           Germany  Lush and decadent, with intensely sweet notes ...   \n",
       "2             Spain  Leather, mint and wet-dog aromas along with an...   \n",
       "3            France  92-94 Barrel sample. Wood dominant, smooth tan...   \n",
       "4            France  A lean, austere wine, maybe the result of the ...   \n",
       "...             ...                                                ...   \n",
       "30181            US  This is very good in a Napa-does-Bordeaux styl...   \n",
       "30182            US  You might mistake this for a good Dry Creek Zi...   \n",
       "30183            US  A Southern Rhône-style blend of Syrah, Grenach...   \n",
       "30184  South Africa  Fresh grass, vibrant citrus and tart gooseberr...   \n",
       "30185            US  This is one of the best California Rieslings a...   \n",
       "\n",
       "                               designation          province  \\\n",
       "0                                  Alliage        California   \n",
       "1      Graacher Himmelreich Vat 69 Eiswein             Mosel   \n",
       "2                              Cachito Mio    Northern Spain   \n",
       "3                            Barrel sample          Bordeaux   \n",
       "4                                Tradition  Southwest France   \n",
       "...                                    ...               ...   \n",
       "30181                            Blueprint        California   \n",
       "30182                  UNKNOWN_designation        California   \n",
       "30183                       Cuvee Christie        California   \n",
       "30184                           Polkadraai  Polkadraai Hills   \n",
       "30185                 La Estancia Vineyard        California   \n",
       "\n",
       "                    region_1          region_2                       variety  \\\n",
       "0       Santa Cruz Mountains     Central Coast            Cabernet Sauvignon   \n",
       "1           UNKNOWN_region_1  UNKNOWN_region_2                      Riesling   \n",
       "2                       Toro  UNKNOWN_region_2                 Tinta de Toro   \n",
       "3               Saint-Julien  UNKNOWN_region_2      Bordeaux-style Red Blend   \n",
       "4                     Cahors  UNKNOWN_region_2                        Malbec   \n",
       "...                      ...               ...                           ...   \n",
       "30181            Napa Valley              Napa      Bordeaux-style Red Blend   \n",
       "30182       Dry Creek Valley            Sonoma                Cabernet Franc   \n",
       "30183   Santa Barbara County     Central Coast                         G-S-M   \n",
       "30184       UNKNOWN_region_1  UNKNOWN_region_2  Chenin Blanc-Sauvignon Blanc   \n",
       "30185  Santa Lucia Highlands     Central Coast                      Riesling   \n",
       "\n",
       "                       winery  \\\n",
       "0                    Byington   \n",
       "1                   S.A. Prüm   \n",
       "2             La Casa Maguila   \n",
       "3      Château Branaire-Ducru   \n",
       "4       Château les Croisille   \n",
       "...                       ...   \n",
       "30181                    Lail   \n",
       "30182                  Mounts   \n",
       "30183                 Tercero   \n",
       "30184      Stellenbosch Hills   \n",
       "30185                Pessagno   \n",
       "\n",
       "                                                      wv  \n",
       "0      [8.146894, 4.923196, -13.609875, -25.412968, -...  \n",
       "1      [-2.2142732, 11.474023, -9.733415, -25.079437,...  \n",
       "2      [9.008783, 5.7527194, -14.74435, -32.200657, 1...  \n",
       "3      [-4.668662, -2.1214767, -1.6580575, -11.93123,...  \n",
       "4      [6.66781, -1.803279, 0.09208423, -21.971687, 8...  \n",
       "...                                                  ...  \n",
       "30181  [-0.7932334, -3.2884083, -3.981152, -12.333408...  \n",
       "30182  [-1.826087, 8.81035, -4.528069, -31.21045, 9.4...  \n",
       "30183  [-11.101473, -0.344439, -8.516296, -30.760334,...  \n",
       "30184  [-5.795786, 0.09900263, -6.9640703, -23.07708,...  \n",
       "30185  [-1.0934166, 7.781248, -2.6222486, -14.584054,...  \n",
       "\n",
       "[30186 rows x 9 columns]"
      ]
     },
     "execution_count": 64,
     "metadata": {},
     "output_type": "execute_result"
    }
   ],
   "source": [
    "df_eval = pd.read_csv('../datasets/competition_dataset/eval.tsv', sep='\\t', dtype=dtypes, usecols=[k for k in dtypes.keys() if k != 'quality'])\n",
    "\n",
    "df_eval = df_eval.dropna(subset=['country', 'province'])\n",
    "\n",
    "df_eval['wv'] = df_eval.description.map(lambda s: word_tokenize(s.lower())).map(w2v_trans.transform).map(lambda v: v.sum(axis=0))\n",
    "\n",
    "for col in categorical_columns:\n",
    "    unk_cat = f\"UNKNOWN_{col}\"\n",
    "    df_eval[col] = df_eval[col].cat.add_categories(unk_cat).fillna(unk_cat)\n",
    "df_eval"
   ]
  },
  {
   "cell_type": "code",
   "execution_count": 65,
   "metadata": {},
   "outputs": [
    {
     "data": {
      "text/plain": [
       "0.7505447771190676"
      ]
     },
     "execution_count": 65,
     "metadata": {},
     "output_type": "execute_result"
    }
   ],
   "source": [
    "reg.fit(X_train, y_train).score(X_test, y_test)"
   ]
  },
  {
   "cell_type": "code",
   "execution_count": 66,
   "metadata": {},
   "outputs": [
    {
     "data": {
      "text/plain": [
       "0        56.453624\n",
       "1        55.724543\n",
       "2        40.932420\n",
       "3        61.966654\n",
       "4        38.261480\n",
       "           ...    \n",
       "30181    59.898555\n",
       "30182    49.528360\n",
       "30183    49.437818\n",
       "30184    28.792577\n",
       "30185    36.115866\n",
       "Name: Predicted, Length: 30186, dtype: float64"
      ]
     },
     "execution_count": 66,
     "metadata": {},
     "output_type": "execute_result"
    }
   ],
   "source": [
    "reg_eval = reg.fit(df.drop('quality', axis=1), df.quality)\n",
    "df_eval['Predicted'] = reg_eval.predict(df_eval)\n",
    "df_eval['Predicted']"
   ]
  },
  {
   "cell_type": "code",
   "execution_count": 67,
   "metadata": {},
   "outputs": [],
   "source": [
    "df_eval['Predicted'].to_csv('second.csv',index_label='Id')"
   ]
  }
 ],
 "metadata": {
  "kernelspec": {
   "display_name": "Python 3",
   "language": "python",
   "name": "python3"
  },
  "language_info": {
   "codemirror_mode": {
    "name": "ipython",
    "version": 3
   },
   "file_extension": ".py",
   "mimetype": "text/x-python",
   "name": "python",
   "nbconvert_exporter": "python",
   "pygments_lexer": "ipython3",
   "version": "3.6.9"
  }
 },
 "nbformat": 4,
 "nbformat_minor": 4
}
