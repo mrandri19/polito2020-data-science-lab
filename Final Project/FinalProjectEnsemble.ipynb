{
 "cells": [
  {
   "cell_type": "code",
   "execution_count": 1,
   "metadata": {},
   "outputs": [],
   "source": [
    "import pandas as pd\n",
    "import seaborn as sns\n",
    "import matplotlib.pyplot as plt\n",
    "import numpy as np\n",
    "%config InlineBackend.figure_format = 'retina'\n",
    "sns.set_theme()"
   ]
  },
  {
   "cell_type": "code",
   "execution_count": 2,
   "metadata": {},
   "outputs": [
    {
     "data": {
      "text/html": [
       "<div>\n",
       "<style scoped>\n",
       "    .dataframe tbody tr th:only-of-type {\n",
       "        vertical-align: middle;\n",
       "    }\n",
       "\n",
       "    .dataframe tbody tr th {\n",
       "        vertical-align: top;\n",
       "    }\n",
       "\n",
       "    .dataframe thead th {\n",
       "        text-align: right;\n",
       "    }\n",
       "</style>\n",
       "<table border=\"1\" class=\"dataframe\">\n",
       "  <thead>\n",
       "    <tr style=\"text-align: right;\">\n",
       "      <th></th>\n",
       "      <th>country</th>\n",
       "      <th>description</th>\n",
       "      <th>province</th>\n",
       "      <th>variety</th>\n",
       "      <th>quality</th>\n",
       "    </tr>\n",
       "  </thead>\n",
       "  <tbody>\n",
       "    <tr>\n",
       "      <th>0</th>\n",
       "      <td>France</td>\n",
       "      <td>A creamed pear wine, with an attractive tang o...</td>\n",
       "      <td>Alsace</td>\n",
       "      <td>Pinot Blanc</td>\n",
       "      <td>45.0</td>\n",
       "    </tr>\n",
       "    <tr>\n",
       "      <th>1</th>\n",
       "      <td>US</td>\n",
       "      <td>Simple and dry, this Cabernet has modest black...</td>\n",
       "      <td>California</td>\n",
       "      <td>Cabernet Sauvignon</td>\n",
       "      <td>31.0</td>\n",
       "    </tr>\n",
       "    <tr>\n",
       "      <th>2</th>\n",
       "      <td>US</td>\n",
       "      <td>This lovely wine captures the floral, perfumed...</td>\n",
       "      <td>Oregon</td>\n",
       "      <td>Gewürztraminer</td>\n",
       "      <td>35.0</td>\n",
       "    </tr>\n",
       "    <tr>\n",
       "      <th>3</th>\n",
       "      <td>Portugal</td>\n",
       "      <td>The aromas are the thing here, as so often wit...</td>\n",
       "      <td>Alentejano</td>\n",
       "      <td>Touriga Nacional</td>\n",
       "      <td>41.0</td>\n",
       "    </tr>\n",
       "    <tr>\n",
       "      <th>4</th>\n",
       "      <td>Italy</td>\n",
       "      <td>This is an interesting, outright strange wine ...</td>\n",
       "      <td>Southern Italy</td>\n",
       "      <td>Coda di Volpe</td>\n",
       "      <td>37.0</td>\n",
       "    </tr>\n",
       "    <tr>\n",
       "      <th>...</th>\n",
       "      <td>...</td>\n",
       "      <td>...</td>\n",
       "      <td>...</td>\n",
       "      <td>...</td>\n",
       "      <td>...</td>\n",
       "    </tr>\n",
       "    <tr>\n",
       "      <th>120730</th>\n",
       "      <td>France</td>\n",
       "      <td>Moët's style, with its delicious forward fruit...</td>\n",
       "      <td>Champagne</td>\n",
       "      <td>Champagne Blend</td>\n",
       "      <td>59.0</td>\n",
       "    </tr>\n",
       "    <tr>\n",
       "      <th>120732</th>\n",
       "      <td>Portugal</td>\n",
       "      <td>This is soft, young and fruity, with a dominat...</td>\n",
       "      <td>Port</td>\n",
       "      <td>Port</td>\n",
       "      <td>42.0</td>\n",
       "    </tr>\n",
       "    <tr>\n",
       "      <th>120733</th>\n",
       "      <td>US</td>\n",
       "      <td>Showing ripe peach, pineapple and honeysuckle ...</td>\n",
       "      <td>California</td>\n",
       "      <td>Chardonnay</td>\n",
       "      <td>46.0</td>\n",
       "    </tr>\n",
       "    <tr>\n",
       "      <th>120735</th>\n",
       "      <td>US</td>\n",
       "      <td>A first release from this new Walla Walla wine...</td>\n",
       "      <td>Washington</td>\n",
       "      <td>Syrah</td>\n",
       "      <td>58.0</td>\n",
       "    </tr>\n",
       "    <tr>\n",
       "      <th>120738</th>\n",
       "      <td>US</td>\n",
       "      <td>This is the winery's fruitier, more accessible...</td>\n",
       "      <td>California</td>\n",
       "      <td>Syrah</td>\n",
       "      <td>40.0</td>\n",
       "    </tr>\n",
       "  </tbody>\n",
       "</table>\n",
       "<p>85016 rows × 5 columns</p>\n",
       "</div>"
      ],
      "text/plain": [
       "         country                                        description  \\\n",
       "0         France  A creamed pear wine, with an attractive tang o...   \n",
       "1             US  Simple and dry, this Cabernet has modest black...   \n",
       "2             US  This lovely wine captures the floral, perfumed...   \n",
       "3       Portugal  The aromas are the thing here, as so often wit...   \n",
       "4          Italy  This is an interesting, outright strange wine ...   \n",
       "...          ...                                                ...   \n",
       "120730    France  Moët's style, with its delicious forward fruit...   \n",
       "120732  Portugal  This is soft, young and fruity, with a dominat...   \n",
       "120733        US  Showing ripe peach, pineapple and honeysuckle ...   \n",
       "120735        US  A first release from this new Walla Walla wine...   \n",
       "120738        US  This is the winery's fruitier, more accessible...   \n",
       "\n",
       "              province             variety  quality  \n",
       "0               Alsace         Pinot Blanc     45.0  \n",
       "1           California  Cabernet Sauvignon     31.0  \n",
       "2               Oregon      Gewürztraminer     35.0  \n",
       "3           Alentejano    Touriga Nacional     41.0  \n",
       "4       Southern Italy       Coda di Volpe     37.0  \n",
       "...                ...                 ...      ...  \n",
       "120730       Champagne     Champagne Blend     59.0  \n",
       "120732            Port                Port     42.0  \n",
       "120733      California          Chardonnay     46.0  \n",
       "120735      Washington               Syrah     58.0  \n",
       "120738      California               Syrah     40.0  \n",
       "\n",
       "[85016 rows x 5 columns]"
      ]
     },
     "execution_count": 2,
     "metadata": {},
     "output_type": "execute_result"
    }
   ],
   "source": [
    "df = pd.read_csv('../datasets/competition_dataset/dev.tsv', sep='\\t', dtype={\n",
    "    'country': 'category',\n",
    "    'province': 'category',\n",
    "    'variety': 'category',\n",
    "    'description': 'str',\n",
    "    'quality': 'float'\n",
    "}, usecols=['country', 'province', 'variety', 'description', 'quality'])\n",
    "\n",
    "df = df.drop_duplicates()\n",
    "df = df.dropna()\n",
    "\n",
    "df"
   ]
  },
  {
   "cell_type": "code",
   "execution_count": 3,
   "metadata": {},
   "outputs": [],
   "source": [
    "from sklearn.model_selection import train_test_split\n",
    "\n",
    "X_train, X_test, y_train, y_test = train_test_split(df[['country', 'province', 'variety', 'description']], df.quality, random_state=42)"
   ]
  },
  {
   "cell_type": "code",
   "execution_count": 4,
   "metadata": {},
   "outputs": [
    {
     "data": {
      "text/plain": [
       "{'fit_time': array([3.06798673, 2.94971895, 3.01315403, 3.10678291, 3.05091596]),\n",
       " 'score_time': array([0.38584256, 0.37674284, 0.40413952, 0.40283298, 0.40266943]),\n",
       " 'estimator': [Pipeline(steps=[('text_trans',\n",
       "                   ColumnTransformer(transformers=[('description_text',\n",
       "                                                    CountVectorizer(binary=True),\n",
       "                                                    'description')])),\n",
       "                  ('text_reg', LinearSVR(random_state=42))]),\n",
       "  Pipeline(steps=[('text_trans',\n",
       "                   ColumnTransformer(transformers=[('description_text',\n",
       "                                                    CountVectorizer(binary=True),\n",
       "                                                    'description')])),\n",
       "                  ('text_reg', LinearSVR(random_state=42))]),\n",
       "  Pipeline(steps=[('text_trans',\n",
       "                   ColumnTransformer(transformers=[('description_text',\n",
       "                                                    CountVectorizer(binary=True),\n",
       "                                                    'description')])),\n",
       "                  ('text_reg', LinearSVR(random_state=42))]),\n",
       "  Pipeline(steps=[('text_trans',\n",
       "                   ColumnTransformer(transformers=[('description_text',\n",
       "                                                    CountVectorizer(binary=True),\n",
       "                                                    'description')])),\n",
       "                  ('text_reg', LinearSVR(random_state=42))]),\n",
       "  Pipeline(steps=[('text_trans',\n",
       "                   ColumnTransformer(transformers=[('description_text',\n",
       "                                                    CountVectorizer(binary=True),\n",
       "                                                    'description')])),\n",
       "                  ('text_reg', LinearSVR(random_state=42))])],\n",
       " 'test_score': array([0.44367979, 0.44322156, 0.44252416, 0.44686057, 0.44492654])}"
      ]
     },
     "execution_count": 4,
     "metadata": {},
     "output_type": "execute_result"
    }
   ],
   "source": [
    "from sklearn.pipeline import Pipeline\n",
    "from sklearn.compose import ColumnTransformer\n",
    "\n",
    "from sklearn.feature_extraction.text import CountVectorizer\n",
    "from sklearn.svm import LinearSVR\n",
    "\n",
    "text_trans = ColumnTransformer(\n",
    "    [('description_text', CountVectorizer(binary=True), 'description')],\n",
    "    remainder='drop'\n",
    ")\n",
    "\n",
    "text_reg = Pipeline([\n",
    "    ('text_trans', text_trans),\n",
    "    ('text_reg', LinearSVR(random_state=42))\n",
    "])\n",
    "\n",
    "from sklearn.model_selection import cross_validate\n",
    "scores = cross_validate(text_reg, X_train, y_train, return_estimator=True, scoring='r2')\n",
    "scores"
   ]
  },
  {
   "cell_type": "code",
   "execution_count": 5,
   "metadata": {},
   "outputs": [
    {
     "name": "stdout",
     "output_type": "stream",
     "text": [
      "Mean R² score: 0.444 ± 0.002\n"
     ]
    }
   ],
   "source": [
    "print(f\"Mean R² score: {scores['test_score'].mean():.3f} ± {scores['test_score'].std():.3f}\")"
   ]
  },
  {
   "cell_type": "code",
   "execution_count": 6,
   "metadata": {},
   "outputs": [],
   "source": [
    "from sklearn.linear_model import LinearRegression"
   ]
  },
  {
   "cell_type": "code",
   "execution_count": 8,
   "metadata": {},
   "outputs": [
    {
     "data": {
      "text/plain": [
       "{'fit_time': array([0.20738673, 0.20652461, 0.23117685, 0.19712734, 0.1928699 ]),\n",
       " 'score_time': array([0.06114721, 0.05780506, 0.06314898, 0.05527067, 0.05864882]),\n",
       " 'estimator': [Pipeline(steps=[('cat_trans',\n",
       "                   ColumnTransformer(transformers=[('lgbm_reg', 'passthrough',\n",
       "                                                    ['country', 'province',\n",
       "                                                     'variety'])])),\n",
       "                  ('ft',\n",
       "                   FunctionTransformer(func=<function recast_to_dataframe at 0x7fd456b51950>)),\n",
       "                  ('cat_reg', LGBMRegressor(random_state=42))]),\n",
       "  Pipeline(steps=[('cat_trans',\n",
       "                   ColumnTransformer(transformers=[('lgbm_reg', 'passthrough',\n",
       "                                                    ['country', 'province',\n",
       "                                                     'variety'])])),\n",
       "                  ('ft',\n",
       "                   FunctionTransformer(func=<function recast_to_dataframe at 0x7fd456b51950>)),\n",
       "                  ('cat_reg', LGBMRegressor(random_state=42))]),\n",
       "  Pipeline(steps=[('cat_trans',\n",
       "                   ColumnTransformer(transformers=[('lgbm_reg', 'passthrough',\n",
       "                                                    ['country', 'province',\n",
       "                                                     'variety'])])),\n",
       "                  ('ft',\n",
       "                   FunctionTransformer(func=<function recast_to_dataframe at 0x7fd456b51950>)),\n",
       "                  ('cat_reg', LGBMRegressor(random_state=42))]),\n",
       "  Pipeline(steps=[('cat_trans',\n",
       "                   ColumnTransformer(transformers=[('lgbm_reg', 'passthrough',\n",
       "                                                    ['country', 'province',\n",
       "                                                     'variety'])])),\n",
       "                  ('ft',\n",
       "                   FunctionTransformer(func=<function recast_to_dataframe at 0x7fd456b51950>)),\n",
       "                  ('cat_reg', LGBMRegressor(random_state=42))]),\n",
       "  Pipeline(steps=[('cat_trans',\n",
       "                   ColumnTransformer(transformers=[('lgbm_reg', 'passthrough',\n",
       "                                                    ['country', 'province',\n",
       "                                                     'variety'])])),\n",
       "                  ('ft',\n",
       "                   FunctionTransformer(func=<function recast_to_dataframe at 0x7fd456b51950>)),\n",
       "                  ('cat_reg', LGBMRegressor(random_state=42))])],\n",
       " 'test_score': array([0.36237817, 0.3453556 , 0.35612829, 0.35188244, 0.34638075])}"
      ]
     },
     "execution_count": 8,
     "metadata": {},
     "output_type": "execute_result"
    }
   ],
   "source": [
    "import lightgbm as lgb\n",
    "\n",
    "from sklearn.preprocessing import FunctionTransformer\n",
    "\n",
    "def recast_to_dataframe(i):\n",
    "    \"\"\"\n",
    "    sklearns transforms data to ndarrays while we want pandas dataframes to\n",
    "    take advantage of lightGBM's automatica categorical handling\n",
    "    \"\"\"\n",
    "    df = pd.DataFrame(i, columns=['country', 'province', 'variety'])\n",
    "    df['country'] = df['country'].astype('category')\n",
    "    df['province'] = df['province'].astype('category')\n",
    "    df['variety'] = df['variety'].astype('category')\n",
    "    \n",
    "    return df\n",
    "\n",
    "cat_trans = ColumnTransformer(\n",
    "    [('lgbm_reg', 'passthrough', ['country', 'province', 'variety'])],\n",
    "    remainder='drop'\n",
    ")\n",
    "\n",
    "cat_reg = Pipeline([\n",
    "    ('cat_trans', cat_trans),\n",
    "    ('ft', FunctionTransformer(recast_to_dataframe)),\n",
    "    ('cat_reg', lgb.sklearn.LGBMRegressor(random_state=42))\n",
    "])\n",
    "\n",
    "scores = cross_validate(cat_reg, X_train, y_train, return_estimator=True, scoring='r2')\n",
    "scores"
   ]
  },
  {
   "cell_type": "code",
   "execution_count": 10,
   "metadata": {},
   "outputs": [
    {
     "name": "stdout",
     "output_type": "stream",
     "text": [
      "Mean R² score: 0.352 ± 0.006\n"
     ]
    }
   ],
   "source": [
    "print(f\"Mean R² score: {scores['test_score'].mean():.3f} ± {scores['test_score'].std():.3f}\")"
   ]
  },
  {
   "cell_type": "markdown",
   "metadata": {},
   "source": [
    "---"
   ]
  },
  {
   "cell_type": "code",
   "execution_count": 11,
   "metadata": {},
   "outputs": [],
   "source": [
    "from sklearn.ensemble import VotingRegressor"
   ]
  },
  {
   "cell_type": "code",
   "execution_count": 16,
   "metadata": {},
   "outputs": [],
   "source": [
    "ereg = VotingRegressor(estimators=[('text', text_reg), ('cat', cat_reg)])"
   ]
  },
  {
   "cell_type": "code",
   "execution_count": 17,
   "metadata": {},
   "outputs": [
    {
     "name": "stdout",
     "output_type": "stream",
     "text": [
      "Mean R² score: 0.506 ± 0.003\n"
     ]
    }
   ],
   "source": [
    "scores = cross_validate(ereg, X_train, y_train, return_estimator=True, scoring='r2')\n",
    "scores\n",
    "print(f\"Mean R² score: {scores['test_score'].mean():.3f} ± {scores['test_score'].std():.3f}\")"
   ]
  },
  {
   "cell_type": "code",
   "execution_count": 18,
   "metadata": {},
   "outputs": [
    {
     "data": {
      "text/plain": [
       "{'fit_time': array([3.37833261, 3.18913198, 3.13237405, 3.25398684, 3.22822571]),\n",
       " 'score_time': array([0.46169353, 0.45339704, 0.44248343, 0.45214295, 0.45767045]),\n",
       " 'estimator': [VotingRegressor(estimators=[('text',\n",
       "                               Pipeline(steps=[('text_trans',\n",
       "                                                ColumnTransformer(transformers=[('description_text',\n",
       "                                                                                 CountVectorizer(binary=True),\n",
       "                                                                                 'description')])),\n",
       "                                               ('text_reg',\n",
       "                                                LinearSVR(random_state=42))])),\n",
       "                              ('cat',\n",
       "                               Pipeline(steps=[('cat_trans',\n",
       "                                                ColumnTransformer(transformers=[('lgbm_reg',\n",
       "                                                                                 'passthrough',\n",
       "                                                                                 ['country',\n",
       "                                                                                  'province',\n",
       "                                                                                  'variety'])])),\n",
       "                                               ('ft',\n",
       "                                                FunctionTransformer(func=<function recast_to_dataframe at 0x7fd456b51950>)),\n",
       "                                               ('cat_reg',\n",
       "                                                LGBMRegressor(random_state=42))]))]),\n",
       "  VotingRegressor(estimators=[('text',\n",
       "                               Pipeline(steps=[('text_trans',\n",
       "                                                ColumnTransformer(transformers=[('description_text',\n",
       "                                                                                 CountVectorizer(binary=True),\n",
       "                                                                                 'description')])),\n",
       "                                               ('text_reg',\n",
       "                                                LinearSVR(random_state=42))])),\n",
       "                              ('cat',\n",
       "                               Pipeline(steps=[('cat_trans',\n",
       "                                                ColumnTransformer(transformers=[('lgbm_reg',\n",
       "                                                                                 'passthrough',\n",
       "                                                                                 ['country',\n",
       "                                                                                  'province',\n",
       "                                                                                  'variety'])])),\n",
       "                                               ('ft',\n",
       "                                                FunctionTransformer(func=<function recast_to_dataframe at 0x7fd456b51950>)),\n",
       "                                               ('cat_reg',\n",
       "                                                LGBMRegressor(random_state=42))]))]),\n",
       "  VotingRegressor(estimators=[('text',\n",
       "                               Pipeline(steps=[('text_trans',\n",
       "                                                ColumnTransformer(transformers=[('description_text',\n",
       "                                                                                 CountVectorizer(binary=True),\n",
       "                                                                                 'description')])),\n",
       "                                               ('text_reg',\n",
       "                                                LinearSVR(random_state=42))])),\n",
       "                              ('cat',\n",
       "                               Pipeline(steps=[('cat_trans',\n",
       "                                                ColumnTransformer(transformers=[('lgbm_reg',\n",
       "                                                                                 'passthrough',\n",
       "                                                                                 ['country',\n",
       "                                                                                  'province',\n",
       "                                                                                  'variety'])])),\n",
       "                                               ('ft',\n",
       "                                                FunctionTransformer(func=<function recast_to_dataframe at 0x7fd456b51950>)),\n",
       "                                               ('cat_reg',\n",
       "                                                LGBMRegressor(random_state=42))]))]),\n",
       "  VotingRegressor(estimators=[('text',\n",
       "                               Pipeline(steps=[('text_trans',\n",
       "                                                ColumnTransformer(transformers=[('description_text',\n",
       "                                                                                 CountVectorizer(binary=True),\n",
       "                                                                                 'description')])),\n",
       "                                               ('text_reg',\n",
       "                                                LinearSVR(random_state=42))])),\n",
       "                              ('cat',\n",
       "                               Pipeline(steps=[('cat_trans',\n",
       "                                                ColumnTransformer(transformers=[('lgbm_reg',\n",
       "                                                                                 'passthrough',\n",
       "                                                                                 ['country',\n",
       "                                                                                  'province',\n",
       "                                                                                  'variety'])])),\n",
       "                                               ('ft',\n",
       "                                                FunctionTransformer(func=<function recast_to_dataframe at 0x7fd456b51950>)),\n",
       "                                               ('cat_reg',\n",
       "                                                LGBMRegressor(random_state=42))]))]),\n",
       "  VotingRegressor(estimators=[('text',\n",
       "                               Pipeline(steps=[('text_trans',\n",
       "                                                ColumnTransformer(transformers=[('description_text',\n",
       "                                                                                 CountVectorizer(binary=True),\n",
       "                                                                                 'description')])),\n",
       "                                               ('text_reg',\n",
       "                                                LinearSVR(random_state=42))])),\n",
       "                              ('cat',\n",
       "                               Pipeline(steps=[('cat_trans',\n",
       "                                                ColumnTransformer(transformers=[('lgbm_reg',\n",
       "                                                                                 'passthrough',\n",
       "                                                                                 ['country',\n",
       "                                                                                  'province',\n",
       "                                                                                  'variety'])])),\n",
       "                                               ('ft',\n",
       "                                                FunctionTransformer(func=<function recast_to_dataframe at 0x7fd456b51950>)),\n",
       "                                               ('cat_reg',\n",
       "                                                LGBMRegressor(random_state=42))]))])],\n",
       " 'test_score': array([0.50892843, 0.50273788, 0.50828378, 0.50556866, 0.50223802])}"
      ]
     },
     "execution_count": 18,
     "metadata": {},
     "output_type": "execute_result"
    }
   ],
   "source": [
    "scores"
   ]
  },
  {
   "cell_type": "markdown",
   "metadata": {},
   "source": [
    "---"
   ]
  },
  {
   "cell_type": "code",
   "execution_count": 30,
   "metadata": {},
   "outputs": [
    {
     "data": {
      "text/html": [
       "<div>\n",
       "<style scoped>\n",
       "    .dataframe tbody tr th:only-of-type {\n",
       "        vertical-align: middle;\n",
       "    }\n",
       "\n",
       "    .dataframe tbody tr th {\n",
       "        vertical-align: top;\n",
       "    }\n",
       "\n",
       "    .dataframe thead th {\n",
       "        text-align: right;\n",
       "    }\n",
       "</style>\n",
       "<table border=\"1\" class=\"dataframe\">\n",
       "  <thead>\n",
       "    <tr style=\"text-align: right;\">\n",
       "      <th></th>\n",
       "      <th>country</th>\n",
       "      <th>description</th>\n",
       "      <th>province</th>\n",
       "      <th>variety</th>\n",
       "    </tr>\n",
       "  </thead>\n",
       "  <tbody>\n",
       "    <tr>\n",
       "      <th>0</th>\n",
       "      <td>US</td>\n",
       "      <td>Strong blueberry and black-cherry aromas mesh ...</td>\n",
       "      <td>California</td>\n",
       "      <td>Cabernet Sauvignon</td>\n",
       "    </tr>\n",
       "    <tr>\n",
       "      <th>1</th>\n",
       "      <td>Germany</td>\n",
       "      <td>Lush and decadent, with intensely sweet notes ...</td>\n",
       "      <td>Mosel</td>\n",
       "      <td>Riesling</td>\n",
       "    </tr>\n",
       "    <tr>\n",
       "      <th>2</th>\n",
       "      <td>Spain</td>\n",
       "      <td>Leather, mint and wet-dog aromas along with an...</td>\n",
       "      <td>Northern Spain</td>\n",
       "      <td>Tinta de Toro</td>\n",
       "    </tr>\n",
       "    <tr>\n",
       "      <th>3</th>\n",
       "      <td>France</td>\n",
       "      <td>92-94 Barrel sample. Wood dominant, smooth tan...</td>\n",
       "      <td>Bordeaux</td>\n",
       "      <td>Bordeaux-style Red Blend</td>\n",
       "    </tr>\n",
       "    <tr>\n",
       "      <th>4</th>\n",
       "      <td>France</td>\n",
       "      <td>A lean, austere wine, maybe the result of the ...</td>\n",
       "      <td>Southwest France</td>\n",
       "      <td>Malbec</td>\n",
       "    </tr>\n",
       "    <tr>\n",
       "      <th>...</th>\n",
       "      <td>...</td>\n",
       "      <td>...</td>\n",
       "      <td>...</td>\n",
       "      <td>...</td>\n",
       "    </tr>\n",
       "    <tr>\n",
       "      <th>30181</th>\n",
       "      <td>US</td>\n",
       "      <td>This is very good in a Napa-does-Bordeaux styl...</td>\n",
       "      <td>California</td>\n",
       "      <td>Bordeaux-style Red Blend</td>\n",
       "    </tr>\n",
       "    <tr>\n",
       "      <th>30182</th>\n",
       "      <td>US</td>\n",
       "      <td>You might mistake this for a good Dry Creek Zi...</td>\n",
       "      <td>California</td>\n",
       "      <td>Cabernet Franc</td>\n",
       "    </tr>\n",
       "    <tr>\n",
       "      <th>30183</th>\n",
       "      <td>US</td>\n",
       "      <td>A Southern Rhône-style blend of Syrah, Grenach...</td>\n",
       "      <td>California</td>\n",
       "      <td>G-S-M</td>\n",
       "    </tr>\n",
       "    <tr>\n",
       "      <th>30184</th>\n",
       "      <td>South Africa</td>\n",
       "      <td>Fresh grass, vibrant citrus and tart gooseberr...</td>\n",
       "      <td>Polkadraai Hills</td>\n",
       "      <td>Chenin Blanc-Sauvignon Blanc</td>\n",
       "    </tr>\n",
       "    <tr>\n",
       "      <th>30185</th>\n",
       "      <td>US</td>\n",
       "      <td>This is one of the best California Rieslings a...</td>\n",
       "      <td>California</td>\n",
       "      <td>Riesling</td>\n",
       "    </tr>\n",
       "  </tbody>\n",
       "</table>\n",
       "<p>30186 rows × 4 columns</p>\n",
       "</div>"
      ],
      "text/plain": [
       "            country                                        description  \\\n",
       "0                US  Strong blueberry and black-cherry aromas mesh ...   \n",
       "1           Germany  Lush and decadent, with intensely sweet notes ...   \n",
       "2             Spain  Leather, mint and wet-dog aromas along with an...   \n",
       "3            France  92-94 Barrel sample. Wood dominant, smooth tan...   \n",
       "4            France  A lean, austere wine, maybe the result of the ...   \n",
       "...             ...                                                ...   \n",
       "30181            US  This is very good in a Napa-does-Bordeaux styl...   \n",
       "30182            US  You might mistake this for a good Dry Creek Zi...   \n",
       "30183            US  A Southern Rhône-style blend of Syrah, Grenach...   \n",
       "30184  South Africa  Fresh grass, vibrant citrus and tart gooseberr...   \n",
       "30185            US  This is one of the best California Rieslings a...   \n",
       "\n",
       "               province                       variety  \n",
       "0            California            Cabernet Sauvignon  \n",
       "1                 Mosel                      Riesling  \n",
       "2        Northern Spain                 Tinta de Toro  \n",
       "3              Bordeaux      Bordeaux-style Red Blend  \n",
       "4      Southwest France                        Malbec  \n",
       "...                 ...                           ...  \n",
       "30181        California      Bordeaux-style Red Blend  \n",
       "30182        California                Cabernet Franc  \n",
       "30183        California                         G-S-M  \n",
       "30184  Polkadraai Hills  Chenin Blanc-Sauvignon Blanc  \n",
       "30185        California                      Riesling  \n",
       "\n",
       "[30186 rows x 4 columns]"
      ]
     },
     "execution_count": 30,
     "metadata": {},
     "output_type": "execute_result"
    }
   ],
   "source": [
    "df_eval = pd.read_csv('../datasets/competition_dataset/eval.tsv', sep='\\t', dtype={\n",
    "    'country': 'category',\n",
    "    'province': 'category',\n",
    "    'variety': 'category',\n",
    "    'description': 'str',\n",
    "}, usecols=['country', 'province', 'variety', 'description'])\n",
    "\n",
    "# df_eval = df_eval.drop_duplicates()\n",
    "# df_eval = df_eval.dropna()\n",
    "\n",
    "df_eval"
   ]
  },
  {
   "cell_type": "code",
   "execution_count": 32,
   "metadata": {},
   "outputs": [],
   "source": [
    "ereg_eval = ereg.fit(df[['country', 'province', 'variety', 'description']], df.quality)"
   ]
  },
  {
   "cell_type": "code",
   "execution_count": 55,
   "metadata": {},
   "outputs": [
    {
     "data": {
      "text/plain": [
       "0.5644612074583147"
      ]
     },
     "execution_count": 55,
     "metadata": {},
     "output_type": "execute_result"
    }
   ],
   "source": [
    "ereg.score(df[['country', 'province', 'variety', 'description']], df.quality)"
   ]
  },
  {
   "cell_type": "code",
   "execution_count": 52,
   "metadata": {},
   "outputs": [
    {
     "data": {
      "text/plain": [
       "0        54.610976\n",
       "1        48.784152\n",
       "2        44.493817\n",
       "3        56.156314\n",
       "4        44.939472\n",
       "           ...    \n",
       "30181    54.481520\n",
       "30182    49.985082\n",
       "30183    50.247771\n",
       "30184    36.613738\n",
       "30185    33.635470\n",
       "Name: Predicted, Length: 30186, dtype: float64"
      ]
     },
     "execution_count": 52,
     "metadata": {},
     "output_type": "execute_result"
    }
   ],
   "source": [
    "df_eval['Predicted'] = ereg_eval.predict(df_eval[['country', 'province', 'variety', 'description']])\n",
    "df_eval['Predicted']"
   ]
  },
  {
   "cell_type": "code",
   "execution_count": 54,
   "metadata": {},
   "outputs": [],
   "source": [
    "df_eval['Predicted'].to_csv('first.csv',index_label='Id')"
   ]
  }
 ],
 "metadata": {
  "kernelspec": {
   "display_name": "Python 3",
   "language": "python",
   "name": "python3"
  },
  "language_info": {
   "codemirror_mode": {
    "name": "ipython",
    "version": 3
   },
   "file_extension": ".py",
   "mimetype": "text/x-python",
   "name": "python",
   "nbconvert_exporter": "python",
   "pygments_lexer": "ipython3",
   "version": "3.6.9"
  }
 },
 "nbformat": 4,
 "nbformat_minor": 4
}
