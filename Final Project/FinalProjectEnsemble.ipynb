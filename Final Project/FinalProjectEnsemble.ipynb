{
 "cells": [
  {
   "cell_type": "code",
   "execution_count": 1,
   "metadata": {},
   "outputs": [],
   "source": [
    "import pandas as pd\n",
    "import seaborn as sns\n",
    "import matplotlib.pyplot as plt\n",
    "import numpy as np\n",
    "%config InlineBackend.figure_format = 'retina'\n",
    "sns.set_theme()"
   ]
  },
  {
   "cell_type": "code",
   "execution_count": 2,
   "metadata": {},
   "outputs": [
    {
     "data": {
      "text/html": [
       "<div>\n",
       "<style scoped>\n",
       "    .dataframe tbody tr th:only-of-type {\n",
       "        vertical-align: middle;\n",
       "    }\n",
       "\n",
       "    .dataframe tbody tr th {\n",
       "        vertical-align: top;\n",
       "    }\n",
       "\n",
       "    .dataframe thead th {\n",
       "        text-align: right;\n",
       "    }\n",
       "</style>\n",
       "<table border=\"1\" class=\"dataframe\">\n",
       "  <thead>\n",
       "    <tr style=\"text-align: right;\">\n",
       "      <th></th>\n",
       "      <th>country</th>\n",
       "      <th>description</th>\n",
       "      <th>province</th>\n",
       "      <th>region_1</th>\n",
       "      <th>region_2</th>\n",
       "      <th>variety</th>\n",
       "      <th>quality</th>\n",
       "    </tr>\n",
       "  </thead>\n",
       "  <tbody>\n",
       "    <tr>\n",
       "      <th>0</th>\n",
       "      <td>France</td>\n",
       "      <td>A creamed pear wine, with an attractive tang o...</td>\n",
       "      <td>Alsace</td>\n",
       "      <td>Crémant d'Alsace</td>\n",
       "      <td>NaN</td>\n",
       "      <td>Pinot Blanc</td>\n",
       "      <td>45.0</td>\n",
       "    </tr>\n",
       "    <tr>\n",
       "      <th>1</th>\n",
       "      <td>US</td>\n",
       "      <td>Simple and dry, this Cabernet has modest black...</td>\n",
       "      <td>California</td>\n",
       "      <td>Paso Robles</td>\n",
       "      <td>Central Coast</td>\n",
       "      <td>Cabernet Sauvignon</td>\n",
       "      <td>31.0</td>\n",
       "    </tr>\n",
       "    <tr>\n",
       "      <th>2</th>\n",
       "      <td>US</td>\n",
       "      <td>This lovely wine captures the floral, perfumed...</td>\n",
       "      <td>Oregon</td>\n",
       "      <td>Willamette Valley</td>\n",
       "      <td>Willamette Valley</td>\n",
       "      <td>Gewürztraminer</td>\n",
       "      <td>35.0</td>\n",
       "    </tr>\n",
       "    <tr>\n",
       "      <th>3</th>\n",
       "      <td>Portugal</td>\n",
       "      <td>The aromas are the thing here, as so often wit...</td>\n",
       "      <td>Alentejano</td>\n",
       "      <td>NaN</td>\n",
       "      <td>NaN</td>\n",
       "      <td>Touriga Nacional</td>\n",
       "      <td>41.0</td>\n",
       "    </tr>\n",
       "    <tr>\n",
       "      <th>4</th>\n",
       "      <td>Italy</td>\n",
       "      <td>This is an interesting, outright strange wine ...</td>\n",
       "      <td>Southern Italy</td>\n",
       "      <td>Pompeiano</td>\n",
       "      <td>NaN</td>\n",
       "      <td>Coda di Volpe</td>\n",
       "      <td>37.0</td>\n",
       "    </tr>\n",
       "    <tr>\n",
       "      <th>...</th>\n",
       "      <td>...</td>\n",
       "      <td>...</td>\n",
       "      <td>...</td>\n",
       "      <td>...</td>\n",
       "      <td>...</td>\n",
       "      <td>...</td>\n",
       "      <td>...</td>\n",
       "    </tr>\n",
       "    <tr>\n",
       "      <th>120730</th>\n",
       "      <td>France</td>\n",
       "      <td>Moët's style, with its delicious forward fruit...</td>\n",
       "      <td>Champagne</td>\n",
       "      <td>Champagne</td>\n",
       "      <td>NaN</td>\n",
       "      <td>Champagne Blend</td>\n",
       "      <td>59.0</td>\n",
       "    </tr>\n",
       "    <tr>\n",
       "      <th>120732</th>\n",
       "      <td>Portugal</td>\n",
       "      <td>This is soft, young and fruity, with a dominat...</td>\n",
       "      <td>Port</td>\n",
       "      <td>NaN</td>\n",
       "      <td>NaN</td>\n",
       "      <td>Port</td>\n",
       "      <td>42.0</td>\n",
       "    </tr>\n",
       "    <tr>\n",
       "      <th>120733</th>\n",
       "      <td>US</td>\n",
       "      <td>Showing ripe peach, pineapple and honeysuckle ...</td>\n",
       "      <td>California</td>\n",
       "      <td>Yountville</td>\n",
       "      <td>Napa</td>\n",
       "      <td>Chardonnay</td>\n",
       "      <td>46.0</td>\n",
       "    </tr>\n",
       "    <tr>\n",
       "      <th>120735</th>\n",
       "      <td>US</td>\n",
       "      <td>A first release from this new Walla Walla wine...</td>\n",
       "      <td>Washington</td>\n",
       "      <td>Walla Walla Valley (WA)</td>\n",
       "      <td>Columbia Valley</td>\n",
       "      <td>Syrah</td>\n",
       "      <td>58.0</td>\n",
       "    </tr>\n",
       "    <tr>\n",
       "      <th>120738</th>\n",
       "      <td>US</td>\n",
       "      <td>This is the winery's fruitier, more accessible...</td>\n",
       "      <td>California</td>\n",
       "      <td>California</td>\n",
       "      <td>California Other</td>\n",
       "      <td>Syrah</td>\n",
       "      <td>40.0</td>\n",
       "    </tr>\n",
       "  </tbody>\n",
       "</table>\n",
       "<p>85023 rows × 7 columns</p>\n",
       "</div>"
      ],
      "text/plain": [
       "         country                                        description  \\\n",
       "0         France  A creamed pear wine, with an attractive tang o...   \n",
       "1             US  Simple and dry, this Cabernet has modest black...   \n",
       "2             US  This lovely wine captures the floral, perfumed...   \n",
       "3       Portugal  The aromas are the thing here, as so often wit...   \n",
       "4          Italy  This is an interesting, outright strange wine ...   \n",
       "...          ...                                                ...   \n",
       "120730    France  Moët's style, with its delicious forward fruit...   \n",
       "120732  Portugal  This is soft, young and fruity, with a dominat...   \n",
       "120733        US  Showing ripe peach, pineapple and honeysuckle ...   \n",
       "120735        US  A first release from this new Walla Walla wine...   \n",
       "120738        US  This is the winery's fruitier, more accessible...   \n",
       "\n",
       "              province                 region_1           region_2  \\\n",
       "0               Alsace         Crémant d'Alsace                NaN   \n",
       "1           California              Paso Robles      Central Coast   \n",
       "2               Oregon        Willamette Valley  Willamette Valley   \n",
       "3           Alentejano                      NaN                NaN   \n",
       "4       Southern Italy                Pompeiano                NaN   \n",
       "...                ...                      ...                ...   \n",
       "120730       Champagne                Champagne                NaN   \n",
       "120732            Port                      NaN                NaN   \n",
       "120733      California               Yountville               Napa   \n",
       "120735      Washington  Walla Walla Valley (WA)    Columbia Valley   \n",
       "120738      California               California   California Other   \n",
       "\n",
       "                   variety  quality  \n",
       "0              Pinot Blanc     45.0  \n",
       "1       Cabernet Sauvignon     31.0  \n",
       "2           Gewürztraminer     35.0  \n",
       "3         Touriga Nacional     41.0  \n",
       "4            Coda di Volpe     37.0  \n",
       "...                    ...      ...  \n",
       "120730     Champagne Blend     59.0  \n",
       "120732                Port     42.0  \n",
       "120733          Chardonnay     46.0  \n",
       "120735               Syrah     58.0  \n",
       "120738               Syrah     40.0  \n",
       "\n",
       "[85023 rows x 7 columns]"
      ]
     },
     "execution_count": 2,
     "metadata": {},
     "output_type": "execute_result"
    }
   ],
   "source": [
    "dtypes = {\n",
    "    'country': 'category',\n",
    "    'province': 'category',\n",
    "    'variety': 'category',\n",
    "    'region_1': 'category',\n",
    "    'region_2': 'category',\n",
    "    \n",
    "    'description': 'str',\n",
    "\n",
    "    'quality': 'float'\n",
    "}\n",
    "categorical_columns = [k for k,t in dtypes.items() if t=='category']\n",
    "df = pd.read_csv('../datasets/competition_dataset/dev.tsv', sep='\\t', dtype=dtypes,\n",
    "                 usecols=dtypes.keys())\n",
    "\n",
    "df = df.drop_duplicates()\n",
    "\n",
    "df"
   ]
  },
  {
   "cell_type": "code",
   "execution_count": 3,
   "metadata": {},
   "outputs": [],
   "source": [
    "from sklearn.model_selection import train_test_split\n",
    "\n",
    "X_train, X_test, y_train, y_test = train_test_split(df.drop('quality', axis=1), df.quality, random_state=42)"
   ]
  },
  {
   "cell_type": "code",
   "execution_count": 4,
   "metadata": {},
   "outputs": [],
   "source": [
    "from sklearn.pipeline import Pipeline\n",
    "from sklearn.compose import ColumnTransformer\n",
    "\n",
    "from sklearn.feature_extraction.text import CountVectorizer\n",
    "from sklearn.svm import LinearSVR\n",
    "\n",
    "text_trans = ColumnTransformer(\n",
    "    [('description_text', CountVectorizer(binary=True), 'description')],\n",
    "    remainder='drop'\n",
    ")\n",
    "\n",
    "text_reg = Pipeline([\n",
    "    ('text_trans', text_trans),\n",
    "    ('text_reg', LinearSVR(random_state=42))\n",
    "])"
   ]
  },
  {
   "cell_type": "code",
   "execution_count": 5,
   "metadata": {},
   "outputs": [
    {
     "name": "stdout",
     "output_type": "stream",
     "text": [
      "Mean R² score: 0.447 ± 0.004\n"
     ]
    }
   ],
   "source": [
    "from sklearn.model_selection import cross_validate\n",
    "scores = cross_validate(text_reg, X_train, y_train, return_estimator=True, scoring='r2')\n",
    "print(f\"Mean R² score: {scores['test_score'].mean():.3f} ± {scores['test_score'].std():.3f}\")"
   ]
  },
  {
   "cell_type": "code",
   "execution_count": 6,
   "metadata": {},
   "outputs": [],
   "source": [
    "import lightgbm as lgb\n",
    "\n",
    "from sklearn.preprocessing import FunctionTransformer\n",
    "\n",
    "def recast_to_dataframe(i):\n",
    "    \"\"\"\n",
    "    sklearns transforms data to ndarrays while we want pandas dataframes to\n",
    "    take advantage of lightGBM's automatica categorical handling\n",
    "    \"\"\"\n",
    "    df = pd.DataFrame(i, columns=categorical_columns)\n",
    "    for col in categorical_columns:\n",
    "        df[col] = df[col].astype('category')\n",
    "    \n",
    "    return df\n",
    "\n",
    "cat_trans = ColumnTransformer(\n",
    "    [('lgbm_reg', 'passthrough', categorical_columns)],\n",
    "    remainder='drop'\n",
    ")\n",
    "\n",
    "cat_reg = Pipeline([\n",
    "    ('cat_trans', cat_trans),\n",
    "    ('ft', FunctionTransformer(recast_to_dataframe)),\n",
    "    ('cat_reg', lgb.sklearn.LGBMRegressor(random_state=42))\n",
    "])"
   ]
  },
  {
   "cell_type": "code",
   "execution_count": 7,
   "metadata": {},
   "outputs": [
    {
     "name": "stdout",
     "output_type": "stream",
     "text": [
      "Mean R² score: 0.502 ± 0.006\n"
     ]
    }
   ],
   "source": [
    "scores = cross_validate(cat_reg, X_train, y_train, return_estimator=True, scoring='r2')\n",
    "print(f\"Mean R² score: {scores['test_score'].mean():.3f} ± {scores['test_score'].std():.3f}\")"
   ]
  },
  {
   "cell_type": "markdown",
   "metadata": {},
   "source": [
    "---"
   ]
  },
  {
   "cell_type": "code",
   "execution_count": 8,
   "metadata": {},
   "outputs": [],
   "source": [
    "from sklearn.ensemble import VotingRegressor"
   ]
  },
  {
   "cell_type": "code",
   "execution_count": 9,
   "metadata": {},
   "outputs": [],
   "source": [
    "ereg = VotingRegressor(estimators=[('text', text_reg), ('cat', cat_reg)])"
   ]
  },
  {
   "cell_type": "code",
   "execution_count": 10,
   "metadata": {},
   "outputs": [
    {
     "name": "stdout",
     "output_type": "stream",
     "text": [
      "Mean R² score: 0.581 ± 0.002\n"
     ]
    }
   ],
   "source": [
    "scores = cross_validate(ereg, X_train, y_train, return_estimator=True, scoring='r2')\n",
    "print(f\"Mean R² score: {scores['test_score'].mean():.3f} ± {scores['test_score'].std():.3f}\")"
   ]
  },
  {
   "cell_type": "markdown",
   "metadata": {},
   "source": [
    "---"
   ]
  },
  {
   "cell_type": "code",
   "execution_count": 11,
   "metadata": {},
   "outputs": [
    {
     "data": {
      "text/html": [
       "<div>\n",
       "<style scoped>\n",
       "    .dataframe tbody tr th:only-of-type {\n",
       "        vertical-align: middle;\n",
       "    }\n",
       "\n",
       "    .dataframe tbody tr th {\n",
       "        vertical-align: top;\n",
       "    }\n",
       "\n",
       "    .dataframe thead th {\n",
       "        text-align: right;\n",
       "    }\n",
       "</style>\n",
       "<table border=\"1\" class=\"dataframe\">\n",
       "  <thead>\n",
       "    <tr style=\"text-align: right;\">\n",
       "      <th></th>\n",
       "      <th>country</th>\n",
       "      <th>description</th>\n",
       "      <th>province</th>\n",
       "      <th>region_1</th>\n",
       "      <th>region_2</th>\n",
       "      <th>variety</th>\n",
       "    </tr>\n",
       "  </thead>\n",
       "  <tbody>\n",
       "    <tr>\n",
       "      <th>0</th>\n",
       "      <td>US</td>\n",
       "      <td>Strong blueberry and black-cherry aromas mesh ...</td>\n",
       "      <td>California</td>\n",
       "      <td>Santa Cruz Mountains</td>\n",
       "      <td>Central Coast</td>\n",
       "      <td>Cabernet Sauvignon</td>\n",
       "    </tr>\n",
       "    <tr>\n",
       "      <th>1</th>\n",
       "      <td>Germany</td>\n",
       "      <td>Lush and decadent, with intensely sweet notes ...</td>\n",
       "      <td>Mosel</td>\n",
       "      <td>NaN</td>\n",
       "      <td>NaN</td>\n",
       "      <td>Riesling</td>\n",
       "    </tr>\n",
       "    <tr>\n",
       "      <th>2</th>\n",
       "      <td>Spain</td>\n",
       "      <td>Leather, mint and wet-dog aromas along with an...</td>\n",
       "      <td>Northern Spain</td>\n",
       "      <td>Toro</td>\n",
       "      <td>NaN</td>\n",
       "      <td>Tinta de Toro</td>\n",
       "    </tr>\n",
       "    <tr>\n",
       "      <th>3</th>\n",
       "      <td>France</td>\n",
       "      <td>92-94 Barrel sample. Wood dominant, smooth tan...</td>\n",
       "      <td>Bordeaux</td>\n",
       "      <td>Saint-Julien</td>\n",
       "      <td>NaN</td>\n",
       "      <td>Bordeaux-style Red Blend</td>\n",
       "    </tr>\n",
       "    <tr>\n",
       "      <th>4</th>\n",
       "      <td>France</td>\n",
       "      <td>A lean, austere wine, maybe the result of the ...</td>\n",
       "      <td>Southwest France</td>\n",
       "      <td>Cahors</td>\n",
       "      <td>NaN</td>\n",
       "      <td>Malbec</td>\n",
       "    </tr>\n",
       "    <tr>\n",
       "      <th>...</th>\n",
       "      <td>...</td>\n",
       "      <td>...</td>\n",
       "      <td>...</td>\n",
       "      <td>...</td>\n",
       "      <td>...</td>\n",
       "      <td>...</td>\n",
       "    </tr>\n",
       "    <tr>\n",
       "      <th>30181</th>\n",
       "      <td>US</td>\n",
       "      <td>This is very good in a Napa-does-Bordeaux styl...</td>\n",
       "      <td>California</td>\n",
       "      <td>Napa Valley</td>\n",
       "      <td>Napa</td>\n",
       "      <td>Bordeaux-style Red Blend</td>\n",
       "    </tr>\n",
       "    <tr>\n",
       "      <th>30182</th>\n",
       "      <td>US</td>\n",
       "      <td>You might mistake this for a good Dry Creek Zi...</td>\n",
       "      <td>California</td>\n",
       "      <td>Dry Creek Valley</td>\n",
       "      <td>Sonoma</td>\n",
       "      <td>Cabernet Franc</td>\n",
       "    </tr>\n",
       "    <tr>\n",
       "      <th>30183</th>\n",
       "      <td>US</td>\n",
       "      <td>A Southern Rhône-style blend of Syrah, Grenach...</td>\n",
       "      <td>California</td>\n",
       "      <td>Santa Barbara County</td>\n",
       "      <td>Central Coast</td>\n",
       "      <td>G-S-M</td>\n",
       "    </tr>\n",
       "    <tr>\n",
       "      <th>30184</th>\n",
       "      <td>South Africa</td>\n",
       "      <td>Fresh grass, vibrant citrus and tart gooseberr...</td>\n",
       "      <td>Polkadraai Hills</td>\n",
       "      <td>NaN</td>\n",
       "      <td>NaN</td>\n",
       "      <td>Chenin Blanc-Sauvignon Blanc</td>\n",
       "    </tr>\n",
       "    <tr>\n",
       "      <th>30185</th>\n",
       "      <td>US</td>\n",
       "      <td>This is one of the best California Rieslings a...</td>\n",
       "      <td>California</td>\n",
       "      <td>Santa Lucia Highlands</td>\n",
       "      <td>Central Coast</td>\n",
       "      <td>Riesling</td>\n",
       "    </tr>\n",
       "  </tbody>\n",
       "</table>\n",
       "<p>30186 rows × 6 columns</p>\n",
       "</div>"
      ],
      "text/plain": [
       "            country                                        description  \\\n",
       "0                US  Strong blueberry and black-cherry aromas mesh ...   \n",
       "1           Germany  Lush and decadent, with intensely sweet notes ...   \n",
       "2             Spain  Leather, mint and wet-dog aromas along with an...   \n",
       "3            France  92-94 Barrel sample. Wood dominant, smooth tan...   \n",
       "4            France  A lean, austere wine, maybe the result of the ...   \n",
       "...             ...                                                ...   \n",
       "30181            US  This is very good in a Napa-does-Bordeaux styl...   \n",
       "30182            US  You might mistake this for a good Dry Creek Zi...   \n",
       "30183            US  A Southern Rhône-style blend of Syrah, Grenach...   \n",
       "30184  South Africa  Fresh grass, vibrant citrus and tart gooseberr...   \n",
       "30185            US  This is one of the best California Rieslings a...   \n",
       "\n",
       "               province               region_1       region_2  \\\n",
       "0            California   Santa Cruz Mountains  Central Coast   \n",
       "1                 Mosel                    NaN            NaN   \n",
       "2        Northern Spain                   Toro            NaN   \n",
       "3              Bordeaux           Saint-Julien            NaN   \n",
       "4      Southwest France                 Cahors            NaN   \n",
       "...                 ...                    ...            ...   \n",
       "30181        California            Napa Valley           Napa   \n",
       "30182        California       Dry Creek Valley         Sonoma   \n",
       "30183        California   Santa Barbara County  Central Coast   \n",
       "30184  Polkadraai Hills                    NaN            NaN   \n",
       "30185        California  Santa Lucia Highlands  Central Coast   \n",
       "\n",
       "                            variety  \n",
       "0                Cabernet Sauvignon  \n",
       "1                          Riesling  \n",
       "2                     Tinta de Toro  \n",
       "3          Bordeaux-style Red Blend  \n",
       "4                            Malbec  \n",
       "...                             ...  \n",
       "30181      Bordeaux-style Red Blend  \n",
       "30182                Cabernet Franc  \n",
       "30183                         G-S-M  \n",
       "30184  Chenin Blanc-Sauvignon Blanc  \n",
       "30185                      Riesling  \n",
       "\n",
       "[30186 rows x 6 columns]"
      ]
     },
     "execution_count": 11,
     "metadata": {},
     "output_type": "execute_result"
    }
   ],
   "source": [
    "df_eval = pd.read_csv('../datasets/competition_dataset/eval.tsv', sep='\\t', dtype=dtypes, usecols=[k for k in dtypes.keys() if k != 'quality'])\n",
    "df_eval"
   ]
  },
  {
   "cell_type": "code",
   "execution_count": 12,
   "metadata": {},
   "outputs": [],
   "source": [
    "ereg_eval = ereg.fit(df.drop('quality', axis=1), df.quality)"
   ]
  },
  {
   "cell_type": "code",
   "execution_count": 13,
   "metadata": {},
   "outputs": [
    {
     "data": {
      "text/plain": [
       "0.6403832822720104"
      ]
     },
     "execution_count": 13,
     "metadata": {},
     "output_type": "execute_result"
    }
   ],
   "source": [
    "ereg.score(df.drop('quality', axis=1), df.quality)"
   ]
  },
  {
   "cell_type": "code",
   "execution_count": 14,
   "metadata": {},
   "outputs": [
    {
     "data": {
      "text/plain": [
       "0        55.445311\n",
       "1        48.750638\n",
       "2        44.458576\n",
       "3        61.342019\n",
       "4        45.432356\n",
       "           ...    \n",
       "30181    56.146390\n",
       "30182    50.049736\n",
       "30183    51.096368\n",
       "30184    36.790033\n",
       "30185    35.494700\n",
       "Name: Predicted, Length: 30186, dtype: float64"
      ]
     },
     "execution_count": 14,
     "metadata": {},
     "output_type": "execute_result"
    }
   ],
   "source": [
    "df_eval['Predicted'] = ereg_eval.predict(df_eval)\n",
    "df_eval['Predicted']"
   ]
  },
  {
   "cell_type": "code",
   "execution_count": 15,
   "metadata": {},
   "outputs": [],
   "source": [
    "df_eval['Predicted'].to_csv('second.csv',index_label='Id')"
   ]
  }
 ],
 "metadata": {
  "kernelspec": {
   "display_name": "Python 3",
   "language": "python",
   "name": "python3"
  },
  "language_info": {
   "codemirror_mode": {
    "name": "ipython",
    "version": 3
   },
   "file_extension": ".py",
   "mimetype": "text/x-python",
   "name": "python",
   "nbconvert_exporter": "python",
   "pygments_lexer": "ipython3",
   "version": "3.6.9"
  }
 },
 "nbformat": 4,
 "nbformat_minor": 4
}
