{
 "cells": [
  {
   "cell_type": "code",
   "execution_count": 64,
   "metadata": {},
   "outputs": [],
   "source": [
    "import pandas as pd\n",
    "import seaborn as sns\n",
    "import matplotlib.pyplot as plt\n",
    "import numpy as np\n",
    "%config InlineBackend.figure_format = 'retina'\n",
    "sns.set_theme()"
   ]
  },
  {
   "cell_type": "code",
   "execution_count": 65,
   "metadata": {},
   "outputs": [
    {
     "data": {
      "text/html": [
       "<div>\n",
       "<style scoped>\n",
       "    .dataframe tbody tr th:only-of-type {\n",
       "        vertical-align: middle;\n",
       "    }\n",
       "\n",
       "    .dataframe tbody tr th {\n",
       "        vertical-align: top;\n",
       "    }\n",
       "\n",
       "    .dataframe thead th {\n",
       "        text-align: right;\n",
       "    }\n",
       "</style>\n",
       "<table border=\"1\" class=\"dataframe\">\n",
       "  <thead>\n",
       "    <tr style=\"text-align: right;\">\n",
       "      <th></th>\n",
       "      <th>country</th>\n",
       "      <th>description</th>\n",
       "      <th>province</th>\n",
       "      <th>region_1</th>\n",
       "      <th>region_2</th>\n",
       "      <th>variety</th>\n",
       "      <th>winery</th>\n",
       "      <th>quality</th>\n",
       "    </tr>\n",
       "  </thead>\n",
       "  <tbody>\n",
       "    <tr>\n",
       "      <th>0</th>\n",
       "      <td>France</td>\n",
       "      <td>A creamed pear wine, with an attractive tang o...</td>\n",
       "      <td>Alsace</td>\n",
       "      <td>Crémant d'Alsace</td>\n",
       "      <td>UNKNOWN_region_2</td>\n",
       "      <td>Pinot Blanc</td>\n",
       "      <td>Lucien Albrecht</td>\n",
       "      <td>45.0</td>\n",
       "    </tr>\n",
       "    <tr>\n",
       "      <th>1</th>\n",
       "      <td>US</td>\n",
       "      <td>Simple and dry, this Cabernet has modest black...</td>\n",
       "      <td>California</td>\n",
       "      <td>Paso Robles</td>\n",
       "      <td>Central Coast</td>\n",
       "      <td>Cabernet Sauvignon</td>\n",
       "      <td>Castle Rock</td>\n",
       "      <td>31.0</td>\n",
       "    </tr>\n",
       "    <tr>\n",
       "      <th>2</th>\n",
       "      <td>US</td>\n",
       "      <td>This lovely wine captures the floral, perfumed...</td>\n",
       "      <td>Oregon</td>\n",
       "      <td>Willamette Valley</td>\n",
       "      <td>Willamette Valley</td>\n",
       "      <td>Gewürztraminer</td>\n",
       "      <td>Château Bianca</td>\n",
       "      <td>35.0</td>\n",
       "    </tr>\n",
       "    <tr>\n",
       "      <th>3</th>\n",
       "      <td>Portugal</td>\n",
       "      <td>The aromas are the thing here, as so often wit...</td>\n",
       "      <td>Alentejano</td>\n",
       "      <td>UNKNOWN_region_1</td>\n",
       "      <td>UNKNOWN_region_2</td>\n",
       "      <td>Touriga Nacional</td>\n",
       "      <td>Herdade do Esporão</td>\n",
       "      <td>41.0</td>\n",
       "    </tr>\n",
       "    <tr>\n",
       "      <th>4</th>\n",
       "      <td>Italy</td>\n",
       "      <td>This is an interesting, outright strange wine ...</td>\n",
       "      <td>Southern Italy</td>\n",
       "      <td>Pompeiano</td>\n",
       "      <td>UNKNOWN_region_2</td>\n",
       "      <td>Coda di Volpe</td>\n",
       "      <td>Sorrentino</td>\n",
       "      <td>37.0</td>\n",
       "    </tr>\n",
       "    <tr>\n",
       "      <th>...</th>\n",
       "      <td>...</td>\n",
       "      <td>...</td>\n",
       "      <td>...</td>\n",
       "      <td>...</td>\n",
       "      <td>...</td>\n",
       "      <td>...</td>\n",
       "      <td>...</td>\n",
       "      <td>...</td>\n",
       "    </tr>\n",
       "    <tr>\n",
       "      <th>120730</th>\n",
       "      <td>France</td>\n",
       "      <td>Moët's style, with its delicious forward fruit...</td>\n",
       "      <td>Champagne</td>\n",
       "      <td>Champagne</td>\n",
       "      <td>UNKNOWN_region_2</td>\n",
       "      <td>Champagne Blend</td>\n",
       "      <td>Moët &amp; Chandon</td>\n",
       "      <td>59.0</td>\n",
       "    </tr>\n",
       "    <tr>\n",
       "      <th>120732</th>\n",
       "      <td>Portugal</td>\n",
       "      <td>This is soft, young and fruity, with a dominat...</td>\n",
       "      <td>Port</td>\n",
       "      <td>UNKNOWN_region_1</td>\n",
       "      <td>UNKNOWN_region_2</td>\n",
       "      <td>Port</td>\n",
       "      <td>Barão de Vilar</td>\n",
       "      <td>42.0</td>\n",
       "    </tr>\n",
       "    <tr>\n",
       "      <th>120733</th>\n",
       "      <td>US</td>\n",
       "      <td>Showing ripe peach, pineapple and honeysuckle ...</td>\n",
       "      <td>California</td>\n",
       "      <td>Yountville</td>\n",
       "      <td>Napa</td>\n",
       "      <td>Chardonnay</td>\n",
       "      <td>Liparita</td>\n",
       "      <td>46.0</td>\n",
       "    </tr>\n",
       "    <tr>\n",
       "      <th>120735</th>\n",
       "      <td>US</td>\n",
       "      <td>A first release from this new Walla Walla wine...</td>\n",
       "      <td>Washington</td>\n",
       "      <td>Walla Walla Valley (WA)</td>\n",
       "      <td>Columbia Valley</td>\n",
       "      <td>Syrah</td>\n",
       "      <td>Delmas</td>\n",
       "      <td>58.0</td>\n",
       "    </tr>\n",
       "    <tr>\n",
       "      <th>120738</th>\n",
       "      <td>US</td>\n",
       "      <td>This is the winery's fruitier, more accessible...</td>\n",
       "      <td>California</td>\n",
       "      <td>California</td>\n",
       "      <td>California Other</td>\n",
       "      <td>Syrah</td>\n",
       "      <td>Terre Rouge</td>\n",
       "      <td>40.0</td>\n",
       "    </tr>\n",
       "  </tbody>\n",
       "</table>\n",
       "<p>85024 rows × 8 columns</p>\n",
       "</div>"
      ],
      "text/plain": [
       "         country                                        description  \\\n",
       "0         France  A creamed pear wine, with an attractive tang o...   \n",
       "1             US  Simple and dry, this Cabernet has modest black...   \n",
       "2             US  This lovely wine captures the floral, perfumed...   \n",
       "3       Portugal  The aromas are the thing here, as so often wit...   \n",
       "4          Italy  This is an interesting, outright strange wine ...   \n",
       "...          ...                                                ...   \n",
       "120730    France  Moët's style, with its delicious forward fruit...   \n",
       "120732  Portugal  This is soft, young and fruity, with a dominat...   \n",
       "120733        US  Showing ripe peach, pineapple and honeysuckle ...   \n",
       "120735        US  A first release from this new Walla Walla wine...   \n",
       "120738        US  This is the winery's fruitier, more accessible...   \n",
       "\n",
       "              province                 region_1           region_2  \\\n",
       "0               Alsace         Crémant d'Alsace   UNKNOWN_region_2   \n",
       "1           California              Paso Robles      Central Coast   \n",
       "2               Oregon        Willamette Valley  Willamette Valley   \n",
       "3           Alentejano         UNKNOWN_region_1   UNKNOWN_region_2   \n",
       "4       Southern Italy                Pompeiano   UNKNOWN_region_2   \n",
       "...                ...                      ...                ...   \n",
       "120730       Champagne                Champagne   UNKNOWN_region_2   \n",
       "120732            Port         UNKNOWN_region_1   UNKNOWN_region_2   \n",
       "120733      California               Yountville               Napa   \n",
       "120735      Washington  Walla Walla Valley (WA)    Columbia Valley   \n",
       "120738      California               California   California Other   \n",
       "\n",
       "                   variety              winery  quality  \n",
       "0              Pinot Blanc     Lucien Albrecht     45.0  \n",
       "1       Cabernet Sauvignon         Castle Rock     31.0  \n",
       "2           Gewürztraminer      Château Bianca     35.0  \n",
       "3         Touriga Nacional  Herdade do Esporão     41.0  \n",
       "4            Coda di Volpe          Sorrentino     37.0  \n",
       "...                    ...                 ...      ...  \n",
       "120730     Champagne Blend      Moët & Chandon     59.0  \n",
       "120732                Port      Barão de Vilar     42.0  \n",
       "120733          Chardonnay            Liparita     46.0  \n",
       "120735               Syrah              Delmas     58.0  \n",
       "120738               Syrah         Terre Rouge     40.0  \n",
       "\n",
       "[85024 rows x 8 columns]"
      ]
     },
     "execution_count": 65,
     "metadata": {},
     "output_type": "execute_result"
    }
   ],
   "source": [
    "dtypes = {\n",
    "    'country': 'category',\n",
    "    'province': 'category',\n",
    "    'variety': 'category',\n",
    "    'region_1': 'category',\n",
    "    'region_2': 'category',\n",
    "    \n",
    "    'winery': 'category',\n",
    "    \n",
    "    'description': 'str',\n",
    "\n",
    "    'quality': 'float'\n",
    "}\n",
    "categorical_columns = [k for k,t in dtypes.items() if t=='category']\n",
    "df = pd.read_csv('../datasets/competition_dataset/dev.tsv', sep='\\t', dtype=dtypes,\n",
    "                 usecols=dtypes.keys())\n",
    "\n",
    "df = df.drop_duplicates().dropna(subset=['country', 'province'])\n",
    "\n",
    "for col in categorical_columns:\n",
    "    unk_cat = f\"UNKNOWN_{col}\"\n",
    "    df[col] = df[col].cat.add_categories(unk_cat).fillna(unk_cat)\n",
    "\n",
    "assert len(df) == 85024, \"we droppet more that we should have\"\n",
    "\n",
    "df"
   ]
  },
  {
   "cell_type": "code",
   "execution_count": 66,
   "metadata": {},
   "outputs": [],
   "source": [
    "from sklearn.model_selection import train_test_split\n",
    "\n",
    "X_train, X_test, y_train, y_test = train_test_split(df.drop('quality', axis=1), df.quality, random_state=42)"
   ]
  },
  {
   "cell_type": "code",
   "execution_count": 67,
   "metadata": {},
   "outputs": [],
   "source": [
    "from sklearn.preprocessing import OneHotEncoder"
   ]
  },
  {
   "cell_type": "code",
   "execution_count": 68,
   "metadata": {},
   "outputs": [],
   "source": [
    "from sklearn.feature_extraction.text import CountVectorizer"
   ]
  },
  {
   "cell_type": "code",
   "execution_count": 69,
   "metadata": {},
   "outputs": [],
   "source": [
    "from nltk.corpus import stopwords"
   ]
  },
  {
   "cell_type": "code",
   "execution_count": 70,
   "metadata": {},
   "outputs": [
    {
     "data": {
      "text/plain": [
       "(<63768x41069 sparse matrix of type '<class 'numpy.float64'>'\n",
       " \twith 1928971 stored elements in Compressed Sparse Row format>,\n",
       " <63768x26000 sparse matrix of type '<class 'numpy.int64'>'\n",
       " \twith 1546363 stored elements in Compressed Sparse Row format>,\n",
       " <63768x15069 sparse matrix of type '<class 'numpy.float64'>'\n",
       " \twith 382608 stored elements in Compressed Sparse Row format>)"
      ]
     },
     "execution_count": 70,
     "metadata": {},
     "output_type": "execute_result"
    }
   ],
   "source": [
    "from sklearn.pipeline import Pipeline\n",
    "from sklearn.compose import ColumnTransformer\n",
    "column_trans = ColumnTransformer([\n",
    "        ('text_trans', CountVectorizer(binary=True, stop_words=stopwords.words('english')), 'description'),\n",
    "        ('cat_trans', OneHotEncoder(handle_unknown='ignore'), categorical_columns),\n",
    "    ],\n",
    "    remainder='drop'\n",
    ")\n",
    "\n",
    "column_trans.fit_transform(X_train), column_trans.transformers[0][1].fit_transform(X_train.description), column_trans.transformers[1][1].fit_transform(X_train[categorical_columns])"
   ]
  },
  {
   "cell_type": "code",
   "execution_count": 71,
   "metadata": {},
   "outputs": [],
   "source": [
    "from sklearn.svm import LinearSVR"
   ]
  },
  {
   "cell_type": "code",
   "execution_count": 72,
   "metadata": {},
   "outputs": [],
   "source": [
    "reg = Pipeline([\n",
    "    ('column_trans', column_trans),\n",
    "    ('reg', LinearSVR(random_state=42))\n",
    "])"
   ]
  },
  {
   "cell_type": "code",
   "execution_count": 73,
   "metadata": {},
   "outputs": [
    {
     "name": "stdout",
     "output_type": "stream",
     "text": [
      "Mean R² score: 0.655 ± 0.008\n",
      "CPU times: user 17.9 s, sys: 27.3 ms, total: 17.9 s\n",
      "Wall time: 17.9 s\n"
     ]
    }
   ],
   "source": [
    "%%time\n",
    "from sklearn.model_selection import cross_validate\n",
    "scores = cross_validate(reg, X_train, y_train, return_estimator=True, scoring='r2')\n",
    "print(f\"Mean R² score: {scores['test_score'].mean():.3f} ± {scores['test_score'].std():.3f}\")"
   ]
  },
  {
   "cell_type": "markdown",
   "metadata": {},
   "source": [
    "---"
   ]
  },
  {
   "cell_type": "markdown",
   "metadata": {},
   "source": [
    "### Moving to colab for NN training"
   ]
  },
  {
   "cell_type": "code",
   "execution_count": 15,
   "metadata": {},
   "outputs": [],
   "source": [
    "from scipy.sparse import save_npz"
   ]
  },
  {
   "cell_type": "code",
   "execution_count": 20,
   "metadata": {},
   "outputs": [
    {
     "data": {
      "text/plain": [
       "<63765x28193 sparse matrix of type '<class 'numpy.float64'>'\n",
       "\twith 1864101 stored elements in Compressed Sparse Row format>"
      ]
     },
     "execution_count": 20,
     "metadata": {},
     "output_type": "execute_result"
    }
   ],
   "source": [
    "X_train_trans = column_trans.fit_transform(X_train)\n",
    "X_train_trans"
   ]
  },
  {
   "cell_type": "code",
   "execution_count": 21,
   "metadata": {},
   "outputs": [
    {
     "data": {
      "text/plain": [
       "<21255x28193 sparse matrix of type '<class 'numpy.float64'>'\n",
       "\twith 616673 stored elements in Compressed Sparse Row format>"
      ]
     },
     "execution_count": 21,
     "metadata": {},
     "output_type": "execute_result"
    }
   ],
   "source": [
    "X_test_trans = column_trans.transform(X_test)\n",
    "X_test_trans"
   ]
  },
  {
   "cell_type": "code",
   "execution_count": 22,
   "metadata": {},
   "outputs": [],
   "source": [
    "save_npz('X_train_trans', X_train_trans)"
   ]
  },
  {
   "cell_type": "code",
   "execution_count": 26,
   "metadata": {},
   "outputs": [],
   "source": [
    "save_npz('X_test_trans', X_test_trans)"
   ]
  },
  {
   "cell_type": "code",
   "execution_count": 24,
   "metadata": {},
   "outputs": [],
   "source": [
    "np.save('y_train', y_train)"
   ]
  },
  {
   "cell_type": "code",
   "execution_count": 25,
   "metadata": {},
   "outputs": [],
   "source": [
    "np.save('y_test', y_test)"
   ]
  },
  {
   "cell_type": "markdown",
   "metadata": {},
   "source": [
    "---"
   ]
  },
  {
   "cell_type": "code",
   "execution_count": 74,
   "metadata": {},
   "outputs": [
    {
     "data": {
      "text/html": [
       "<div>\n",
       "<style scoped>\n",
       "    .dataframe tbody tr th:only-of-type {\n",
       "        vertical-align: middle;\n",
       "    }\n",
       "\n",
       "    .dataframe tbody tr th {\n",
       "        vertical-align: top;\n",
       "    }\n",
       "\n",
       "    .dataframe thead th {\n",
       "        text-align: right;\n",
       "    }\n",
       "</style>\n",
       "<table border=\"1\" class=\"dataframe\">\n",
       "  <thead>\n",
       "    <tr style=\"text-align: right;\">\n",
       "      <th></th>\n",
       "      <th>country</th>\n",
       "      <th>description</th>\n",
       "      <th>province</th>\n",
       "      <th>region_1</th>\n",
       "      <th>region_2</th>\n",
       "      <th>variety</th>\n",
       "      <th>winery</th>\n",
       "    </tr>\n",
       "  </thead>\n",
       "  <tbody>\n",
       "    <tr>\n",
       "      <th>0</th>\n",
       "      <td>US</td>\n",
       "      <td>Strong blueberry and black-cherry aromas mesh ...</td>\n",
       "      <td>California</td>\n",
       "      <td>Santa Cruz Mountains</td>\n",
       "      <td>Central Coast</td>\n",
       "      <td>Cabernet Sauvignon</td>\n",
       "      <td>Byington</td>\n",
       "    </tr>\n",
       "    <tr>\n",
       "      <th>1</th>\n",
       "      <td>Germany</td>\n",
       "      <td>Lush and decadent, with intensely sweet notes ...</td>\n",
       "      <td>Mosel</td>\n",
       "      <td>UNKNOWN_region_1</td>\n",
       "      <td>UNKNOWN_region_2</td>\n",
       "      <td>Riesling</td>\n",
       "      <td>S.A. Prüm</td>\n",
       "    </tr>\n",
       "    <tr>\n",
       "      <th>2</th>\n",
       "      <td>Spain</td>\n",
       "      <td>Leather, mint and wet-dog aromas along with an...</td>\n",
       "      <td>Northern Spain</td>\n",
       "      <td>Toro</td>\n",
       "      <td>UNKNOWN_region_2</td>\n",
       "      <td>Tinta de Toro</td>\n",
       "      <td>La Casa Maguila</td>\n",
       "    </tr>\n",
       "    <tr>\n",
       "      <th>3</th>\n",
       "      <td>France</td>\n",
       "      <td>92-94 Barrel sample. Wood dominant, smooth tan...</td>\n",
       "      <td>Bordeaux</td>\n",
       "      <td>Saint-Julien</td>\n",
       "      <td>UNKNOWN_region_2</td>\n",
       "      <td>Bordeaux-style Red Blend</td>\n",
       "      <td>Château Branaire-Ducru</td>\n",
       "    </tr>\n",
       "    <tr>\n",
       "      <th>4</th>\n",
       "      <td>France</td>\n",
       "      <td>A lean, austere wine, maybe the result of the ...</td>\n",
       "      <td>Southwest France</td>\n",
       "      <td>Cahors</td>\n",
       "      <td>UNKNOWN_region_2</td>\n",
       "      <td>Malbec</td>\n",
       "      <td>Château les Croisille</td>\n",
       "    </tr>\n",
       "    <tr>\n",
       "      <th>...</th>\n",
       "      <td>...</td>\n",
       "      <td>...</td>\n",
       "      <td>...</td>\n",
       "      <td>...</td>\n",
       "      <td>...</td>\n",
       "      <td>...</td>\n",
       "      <td>...</td>\n",
       "    </tr>\n",
       "    <tr>\n",
       "      <th>30181</th>\n",
       "      <td>US</td>\n",
       "      <td>This is very good in a Napa-does-Bordeaux styl...</td>\n",
       "      <td>California</td>\n",
       "      <td>Napa Valley</td>\n",
       "      <td>Napa</td>\n",
       "      <td>Bordeaux-style Red Blend</td>\n",
       "      <td>Lail</td>\n",
       "    </tr>\n",
       "    <tr>\n",
       "      <th>30182</th>\n",
       "      <td>US</td>\n",
       "      <td>You might mistake this for a good Dry Creek Zi...</td>\n",
       "      <td>California</td>\n",
       "      <td>Dry Creek Valley</td>\n",
       "      <td>Sonoma</td>\n",
       "      <td>Cabernet Franc</td>\n",
       "      <td>Mounts</td>\n",
       "    </tr>\n",
       "    <tr>\n",
       "      <th>30183</th>\n",
       "      <td>US</td>\n",
       "      <td>A Southern Rhône-style blend of Syrah, Grenach...</td>\n",
       "      <td>California</td>\n",
       "      <td>Santa Barbara County</td>\n",
       "      <td>Central Coast</td>\n",
       "      <td>G-S-M</td>\n",
       "      <td>Tercero</td>\n",
       "    </tr>\n",
       "    <tr>\n",
       "      <th>30184</th>\n",
       "      <td>South Africa</td>\n",
       "      <td>Fresh grass, vibrant citrus and tart gooseberr...</td>\n",
       "      <td>Polkadraai Hills</td>\n",
       "      <td>UNKNOWN_region_1</td>\n",
       "      <td>UNKNOWN_region_2</td>\n",
       "      <td>Chenin Blanc-Sauvignon Blanc</td>\n",
       "      <td>Stellenbosch Hills</td>\n",
       "    </tr>\n",
       "    <tr>\n",
       "      <th>30185</th>\n",
       "      <td>US</td>\n",
       "      <td>This is one of the best California Rieslings a...</td>\n",
       "      <td>California</td>\n",
       "      <td>Santa Lucia Highlands</td>\n",
       "      <td>Central Coast</td>\n",
       "      <td>Riesling</td>\n",
       "      <td>Pessagno</td>\n",
       "    </tr>\n",
       "  </tbody>\n",
       "</table>\n",
       "<p>30186 rows × 7 columns</p>\n",
       "</div>"
      ],
      "text/plain": [
       "            country                                        description  \\\n",
       "0                US  Strong blueberry and black-cherry aromas mesh ...   \n",
       "1           Germany  Lush and decadent, with intensely sweet notes ...   \n",
       "2             Spain  Leather, mint and wet-dog aromas along with an...   \n",
       "3            France  92-94 Barrel sample. Wood dominant, smooth tan...   \n",
       "4            France  A lean, austere wine, maybe the result of the ...   \n",
       "...             ...                                                ...   \n",
       "30181            US  This is very good in a Napa-does-Bordeaux styl...   \n",
       "30182            US  You might mistake this for a good Dry Creek Zi...   \n",
       "30183            US  A Southern Rhône-style blend of Syrah, Grenach...   \n",
       "30184  South Africa  Fresh grass, vibrant citrus and tart gooseberr...   \n",
       "30185            US  This is one of the best California Rieslings a...   \n",
       "\n",
       "               province               region_1          region_2  \\\n",
       "0            California   Santa Cruz Mountains     Central Coast   \n",
       "1                 Mosel       UNKNOWN_region_1  UNKNOWN_region_2   \n",
       "2        Northern Spain                   Toro  UNKNOWN_region_2   \n",
       "3              Bordeaux           Saint-Julien  UNKNOWN_region_2   \n",
       "4      Southwest France                 Cahors  UNKNOWN_region_2   \n",
       "...                 ...                    ...               ...   \n",
       "30181        California            Napa Valley              Napa   \n",
       "30182        California       Dry Creek Valley            Sonoma   \n",
       "30183        California   Santa Barbara County     Central Coast   \n",
       "30184  Polkadraai Hills       UNKNOWN_region_1  UNKNOWN_region_2   \n",
       "30185        California  Santa Lucia Highlands     Central Coast   \n",
       "\n",
       "                            variety                  winery  \n",
       "0                Cabernet Sauvignon                Byington  \n",
       "1                          Riesling               S.A. Prüm  \n",
       "2                     Tinta de Toro         La Casa Maguila  \n",
       "3          Bordeaux-style Red Blend  Château Branaire-Ducru  \n",
       "4                            Malbec   Château les Croisille  \n",
       "...                             ...                     ...  \n",
       "30181      Bordeaux-style Red Blend                    Lail  \n",
       "30182                Cabernet Franc                  Mounts  \n",
       "30183                         G-S-M                 Tercero  \n",
       "30184  Chenin Blanc-Sauvignon Blanc      Stellenbosch Hills  \n",
       "30185                      Riesling                Pessagno  \n",
       "\n",
       "[30186 rows x 7 columns]"
      ]
     },
     "execution_count": 74,
     "metadata": {},
     "output_type": "execute_result"
    }
   ],
   "source": [
    "df_eval = pd.read_csv('../datasets/competition_dataset/eval.tsv', sep='\\t', dtype=dtypes, usecols=[k for k in dtypes.keys() if k != 'quality'])\n",
    "\n",
    "df_eval = df_eval.dropna(subset=['country', 'province'])\n",
    "\n",
    "for col in categorical_columns:\n",
    "    unk_cat = f\"UNKNOWN_{col}\"\n",
    "    df_eval[col] = df_eval[col].cat.add_categories(unk_cat).fillna(unk_cat)\n",
    "df_eval"
   ]
  },
  {
   "cell_type": "code",
   "execution_count": 75,
   "metadata": {},
   "outputs": [],
   "source": [
    "reg_eval = reg.fit(df.drop('quality', axis=1), df.quality)"
   ]
  },
  {
   "cell_type": "code",
   "execution_count": 76,
   "metadata": {},
   "outputs": [
    {
     "data": {
      "text/plain": [
       "0.7775471683525556"
      ]
     },
     "execution_count": 76,
     "metadata": {},
     "output_type": "execute_result"
    }
   ],
   "source": [
    "reg.score(df.drop('quality', axis=1), df.quality)"
   ]
  },
  {
   "cell_type": "code",
   "execution_count": 77,
   "metadata": {},
   "outputs": [
    {
     "data": {
      "text/plain": [
       "0        56.532013\n",
       "1        52.190918\n",
       "2        43.717091\n",
       "3        62.423754\n",
       "4        39.317588\n",
       "           ...    \n",
       "30181    56.408184\n",
       "30182    51.578867\n",
       "30183    49.008359\n",
       "30184    29.899439\n",
       "30185    36.153135\n",
       "Name: Predicted, Length: 30186, dtype: float64"
      ]
     },
     "execution_count": 77,
     "metadata": {},
     "output_type": "execute_result"
    }
   ],
   "source": [
    "df_eval['Predicted'] = reg_eval.predict(df_eval)\n",
    "df_eval['Predicted']"
   ]
  },
  {
   "cell_type": "code",
   "execution_count": 78,
   "metadata": {},
   "outputs": [],
   "source": [
    "df_eval['Predicted'].to_csv('second.csv',index_label='Id')"
   ]
  }
 ],
 "metadata": {
  "kernelspec": {
   "display_name": "Python 3",
   "language": "python",
   "name": "python3"
  },
  "language_info": {
   "codemirror_mode": {
    "name": "ipython",
    "version": 3
   },
   "file_extension": ".py",
   "mimetype": "text/x-python",
   "name": "python",
   "nbconvert_exporter": "python",
   "pygments_lexer": "ipython3",
   "version": "3.6.9"
  }
 },
 "nbformat": 4,
 "nbformat_minor": 4
}
