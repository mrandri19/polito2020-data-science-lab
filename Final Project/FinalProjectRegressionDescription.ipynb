{
 "cells": [
  {
   "cell_type": "code",
   "execution_count": 2,
   "metadata": {},
   "outputs": [],
   "source": [
    "import pandas as pd\n",
    "import seaborn as sns\n",
    "import matplotlib.pyplot as plt\n",
    "%config InlineBackend.figure_format = 'retina'\n",
    "sns.set_theme()"
   ]
  },
  {
   "cell_type": "code",
   "execution_count": 3,
   "metadata": {},
   "outputs": [
    {
     "data": {
      "text/html": [
       "<div>\n",
       "<style scoped>\n",
       "    .dataframe tbody tr th:only-of-type {\n",
       "        vertical-align: middle;\n",
       "    }\n",
       "\n",
       "    .dataframe tbody tr th {\n",
       "        vertical-align: top;\n",
       "    }\n",
       "\n",
       "    .dataframe thead th {\n",
       "        text-align: right;\n",
       "    }\n",
       "</style>\n",
       "<table border=\"1\" class=\"dataframe\">\n",
       "  <thead>\n",
       "    <tr style=\"text-align: right;\">\n",
       "      <th></th>\n",
       "      <th>index</th>\n",
       "      <th>description</th>\n",
       "      <th>quality</th>\n",
       "    </tr>\n",
       "  </thead>\n",
       "  <tbody>\n",
       "    <tr>\n",
       "      <th>0</th>\n",
       "      <td>0</td>\n",
       "      <td>A creamed pear wine, with an attractive tang o...</td>\n",
       "      <td>45.0</td>\n",
       "    </tr>\n",
       "    <tr>\n",
       "      <th>1</th>\n",
       "      <td>1</td>\n",
       "      <td>Simple and dry, this Cabernet has modest black...</td>\n",
       "      <td>31.0</td>\n",
       "    </tr>\n",
       "    <tr>\n",
       "      <th>2</th>\n",
       "      <td>2</td>\n",
       "      <td>This lovely wine captures the floral, perfumed...</td>\n",
       "      <td>35.0</td>\n",
       "    </tr>\n",
       "    <tr>\n",
       "      <th>3</th>\n",
       "      <td>3</td>\n",
       "      <td>The aromas are the thing here, as so often wit...</td>\n",
       "      <td>41.0</td>\n",
       "    </tr>\n",
       "    <tr>\n",
       "      <th>4</th>\n",
       "      <td>4</td>\n",
       "      <td>This is an interesting, outright strange wine ...</td>\n",
       "      <td>37.0</td>\n",
       "    </tr>\n",
       "    <tr>\n",
       "      <th>...</th>\n",
       "      <td>...</td>\n",
       "      <td>...</td>\n",
       "      <td>...</td>\n",
       "    </tr>\n",
       "    <tr>\n",
       "      <th>85010</th>\n",
       "      <td>120730</td>\n",
       "      <td>Moët's style, with its delicious forward fruit...</td>\n",
       "      <td>59.0</td>\n",
       "    </tr>\n",
       "    <tr>\n",
       "      <th>85011</th>\n",
       "      <td>120732</td>\n",
       "      <td>This is soft, young and fruity, with a dominat...</td>\n",
       "      <td>42.0</td>\n",
       "    </tr>\n",
       "    <tr>\n",
       "      <th>85012</th>\n",
       "      <td>120733</td>\n",
       "      <td>Showing ripe peach, pineapple and honeysuckle ...</td>\n",
       "      <td>46.0</td>\n",
       "    </tr>\n",
       "    <tr>\n",
       "      <th>85013</th>\n",
       "      <td>120735</td>\n",
       "      <td>A first release from this new Walla Walla wine...</td>\n",
       "      <td>58.0</td>\n",
       "    </tr>\n",
       "    <tr>\n",
       "      <th>85014</th>\n",
       "      <td>120738</td>\n",
       "      <td>This is the winery's fruitier, more accessible...</td>\n",
       "      <td>40.0</td>\n",
       "    </tr>\n",
       "  </tbody>\n",
       "</table>\n",
       "<p>85015 rows × 3 columns</p>\n",
       "</div>"
      ],
      "text/plain": [
       "        index                                        description  quality\n",
       "0           0  A creamed pear wine, with an attractive tang o...     45.0\n",
       "1           1  Simple and dry, this Cabernet has modest black...     31.0\n",
       "2           2  This lovely wine captures the floral, perfumed...     35.0\n",
       "3           3  The aromas are the thing here, as so often wit...     41.0\n",
       "4           4  This is an interesting, outright strange wine ...     37.0\n",
       "...       ...                                                ...      ...\n",
       "85010  120730  Moët's style, with its delicious forward fruit...     59.0\n",
       "85011  120732  This is soft, young and fruity, with a dominat...     42.0\n",
       "85012  120733  Showing ripe peach, pineapple and honeysuckle ...     46.0\n",
       "85013  120735  A first release from this new Walla Walla wine...     58.0\n",
       "85014  120738  This is the winery's fruitier, more accessible...     40.0\n",
       "\n",
       "[85015 rows x 3 columns]"
      ]
     },
     "execution_count": 3,
     "metadata": {},
     "output_type": "execute_result"
    }
   ],
   "source": [
    "df = pd.read_csv('../datasets/competition_dataset/dev.tsv', sep='\\t')\n",
    "\n",
    "df = df[['description', 'quality']]\n",
    "df = df.drop_duplicates()\n",
    "df = df.dropna().reset_index()\n",
    "\n",
    "df"
   ]
  },
  {
   "cell_type": "code",
   "execution_count": null,
   "metadata": {},
   "outputs": [],
   "source": [
    "for i in range(100):\n",
    "    if df[df.quality==i].size == 0: continue\n",
    "    print(i)\n",
    "    print(df[df.quality==i].iloc[0].description)\n",
    "    print()"
   ]
  },
  {
   "cell_type": "markdown",
   "metadata": {},
   "source": [
    "---"
   ]
  },
  {
   "cell_type": "code",
   "execution_count": 83,
   "metadata": {},
   "outputs": [
    {
     "name": "stdout",
     "output_type": "stream",
     "text": [
      "  (0, 26724)\t0.21824155261945066\n",
      "  (0, 26422)\t0.05772287721515287\n",
      "  (0, 26369)\t0.14451826285376917\n",
      "  (0, 25644)\t0.22206887216617127\n",
      "  (0, 25613)\t0.1421144423314626\n",
      "  (0, 24169)\t0.08717022054529139\n",
      "  (0, 23955)\t0.06054129464619863\n",
      "  (0, 23891)\t0.05207940915682215\n",
      "  (0, 23498)\t0.27097450478772195\n",
      "  (0, 21833)\t0.17649574398651227\n",
      "  (0, 20895)\t0.2443170442369752\n",
      "  (0, 17217)\t0.17337719217101866\n",
      "  (0, 16497)\t0.18473319417811598\n",
      "  (0, 16311)\t0.055464308050924366\n",
      "  (0, 15298)\t0.22897584625208936\n",
      "  (0, 13524)\t0.1545062717270811\n",
      "  (0, 12386)\t0.07107356710188499\n",
      "  (0, 12360)\t0.0686073751115589\n",
      "  (0, 11921)\t0.08263730729113714\n",
      "  (0, 10380)\t0.18203446041728114\n",
      "  (0, 9919)\t0.16039797934122152\n",
      "  (0, 9099)\t0.20977890428834503\n",
      "  (0, 8572)\t0.3178530318042038\n",
      "  (0, 7367)\t0.21650667219462535\n",
      "  (0, 6165)\t0.3301944610831026\n",
      "  (0, 3374)\t0.15681010765816653\n",
      "  (0, 3119)\t0.20344270000656708\n",
      "  (0, 2369)\t0.1633679192398074\n",
      "  (0, 1890)\t0.2008317330028973\n",
      "  (0, 1275)\t0.1264501342608274\n",
      "  (0, 683)\t0.10700296219414396\n"
     ]
    }
   ],
   "source": [
    "print(scores['estimator'][0]['count_vect'].transform([df.description.iloc[0]]))"
   ]
  },
  {
   "cell_type": "code",
   "execution_count": 87,
   "metadata": {},
   "outputs": [
    {
     "data": {
      "text/plain": [
       "26802"
      ]
     },
     "execution_count": 87,
     "metadata": {},
     "output_type": "execute_result"
    }
   ],
   "source": [
    "len(scores['estimator'][0]['count_vect'].vocabulary_)"
   ]
  },
  {
   "cell_type": "code",
   "execution_count": 77,
   "metadata": {},
   "outputs": [],
   "source": [
    "from lightgbm.sklearn import LGBMRegressor"
   ]
  },
  {
   "cell_type": "code",
   "execution_count": 78,
   "metadata": {},
   "outputs": [],
   "source": [
    "from sklearn.pipeline import Pipeline\n",
    "from sklearn.svm import LinearSVR\n",
    "from sklearn.feature_extraction.text import TfidfVectorizer\n",
    "from nltk.corpus import stopwords as sw\n",
    "text_reg = Pipeline([\n",
    "    ('count_vect', TfidfVectorizer()),\n",
    "    ('clf', LGBMRegressor(random_state=42)),\n",
    "])"
   ]
  },
  {
   "cell_type": "code",
   "execution_count": 79,
   "metadata": {},
   "outputs": [],
   "source": [
    "from sklearn.model_selection import cross_validate"
   ]
  },
  {
   "cell_type": "code",
   "execution_count": 80,
   "metadata": {},
   "outputs": [
    {
     "name": "stdout",
     "output_type": "stream",
     "text": [
      "CPU times: user 394 ms, sys: 61.7 ms, total: 456 ms\n",
      "Wall time: 1min 1s\n"
     ]
    }
   ],
   "source": [
    "%%time\n",
    "scores = cross_validate(text_reg, df.description, df.quality, return_estimator=True, cv=5, n_jobs=2, scoring='r2')"
   ]
  },
  {
   "cell_type": "code",
   "execution_count": 81,
   "metadata": {},
   "outputs": [
    {
     "data": {
      "text/plain": [
       "{'fit_time': array([20.70174885, 20.78067303, 21.67383146, 20.84754729, 17.66401196]),\n",
       " 'score_time': array([0.60637999, 0.61274028, 0.61618257, 0.66242981, 0.60315824]),\n",
       " 'estimator': [Pipeline(steps=[('count_vect', TfidfVectorizer()),\n",
       "                  ('clf', LGBMRegressor(random_state=42))]),\n",
       "  Pipeline(steps=[('count_vect', TfidfVectorizer()),\n",
       "                  ('clf', LGBMRegressor(random_state=42))]),\n",
       "  Pipeline(steps=[('count_vect', TfidfVectorizer()),\n",
       "                  ('clf', LGBMRegressor(random_state=42))]),\n",
       "  Pipeline(steps=[('count_vect', TfidfVectorizer()),\n",
       "                  ('clf', LGBMRegressor(random_state=42))]),\n",
       "  Pipeline(steps=[('count_vect', TfidfVectorizer()),\n",
       "                  ('clf', LGBMRegressor(random_state=42))])],\n",
       " 'test_score': array([0.44132141, 0.4360679 , 0.43994357, 0.42636896, 0.43385144])}"
      ]
     },
     "execution_count": 81,
     "metadata": {},
     "output_type": "execute_result"
    }
   ],
   "source": [
    "scores"
   ]
  },
  {
   "cell_type": "code",
   "execution_count": 82,
   "metadata": {},
   "outputs": [
    {
     "name": "stdout",
     "output_type": "stream",
     "text": [
      "Mean R² score: 0.436 ± 0.005\n"
     ]
    }
   ],
   "source": [
    "print(f\"Mean R² score: {scores['test_score'].mean():.3f} ± {scores['test_score'].std():.3f}\")"
   ]
  }
 ],
 "metadata": {
  "kernelspec": {
   "display_name": "Python 3",
   "language": "python",
   "name": "python3"
  },
  "language_info": {
   "codemirror_mode": {
    "name": "ipython",
    "version": 3
   },
   "file_extension": ".py",
   "mimetype": "text/x-python",
   "name": "python",
   "nbconvert_exporter": "python",
   "pygments_lexer": "ipython3",
   "version": "3.6.9"
  }
 },
 "nbformat": 4,
 "nbformat_minor": 4
}
