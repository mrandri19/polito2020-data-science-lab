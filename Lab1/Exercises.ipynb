{
 "cells": [
  {
   "cell_type": "markdown",
   "metadata": {},
   "source": [
    "## 2.1 Iris dataset"
   ]
  },
  {
   "cell_type": "code",
   "execution_count": 1,
   "metadata": {},
   "outputs": [],
   "source": [
    "import csv"
   ]
  },
  {
   "cell_type": "code",
   "execution_count": 24,
   "metadata": {},
   "outputs": [],
   "source": [
    "with open(\"iris.csv\") as f:\n",
    "    dataset = [\n",
    "        [float(row[0]), float(row[1]), float(row[2]), float(row[3]), row[4]]\n",
    "        for row\n",
    "        in csv.reader(f)\n",
    "        if row != []\n",
    "    ]"
   ]
  },
  {
   "cell_type": "code",
   "execution_count": 41,
   "metadata": {},
   "outputs": [],
   "source": [
    "from math import sqrt"
   ]
  },
  {
   "cell_type": "code",
   "execution_count": 42,
   "metadata": {},
   "outputs": [],
   "source": [
    "def mean(itr):\n",
    "    return sum(itr) / len(itr)\n",
    "\n",
    "def std(itr):\n",
    "    mu = mean(itr)\n",
    "    n = len(itr)\n",
    "    return sqrt(sum([(x - mu)**2 for x in itr]) / n)"
   ]
  },
  {
   "cell_type": "code",
   "execution_count": 58,
   "metadata": {},
   "outputs": [
    {
     "name": "stdout",
     "output_type": "stream",
     "text": [
      "Iris-setosa\n",
      "0. μ:5.01, σ:0.35\n",
      "1. μ:3.42, σ:0.38\n",
      "2. μ:1.46, σ:0.17\n",
      "3. μ:0.24, σ:0.11\n",
      "Iris-versicolor\n",
      "0. μ:5.94, σ:0.51\n",
      "1. μ:2.77, σ:0.31\n",
      "2. μ:4.26, σ:0.47\n",
      "3. μ:1.33, σ:0.20\n",
      "Iris-virginica\n",
      "0. μ:6.59, σ:0.63\n",
      "1. μ:2.97, σ:0.32\n",
      "2. μ:5.55, σ:0.55\n",
      "3. μ:2.03, σ:0.27\n"
     ]
    }
   ],
   "source": [
    "for species in set(map(lambda row: row[-1], dataset)):\n",
    "    print(species)\n",
    "    for col in range(4):\n",
    "        data = [row[col] for row in dataset if row[-1] == species]\n",
    "        mu = mean(data)\n",
    "        sigma = std(data)\n",
    "        print(f\"{col}. μ:{mu:.2f}, σ:{sigma:.2f}\")"
   ]
  },
  {
   "cell_type": "markdown",
   "metadata": {},
   "source": [
    "## 2.2 Citybik.es dataset"
   ]
  },
  {
   "cell_type": "code",
   "execution_count": 59,
   "metadata": {},
   "outputs": [],
   "source": [
    "import json"
   ]
  },
  {
   "cell_type": "code",
   "execution_count": 61,
   "metadata": {},
   "outputs": [],
   "source": [
    "with open(\"to-bike.json\") as f:\n",
    "    obj = json.load(f)"
   ]
  },
  {
   "cell_type": "code",
   "execution_count": 71,
   "metadata": {},
   "outputs": [
    {
     "data": {
      "text/plain": [
       "114"
      ]
     },
     "execution_count": 71,
     "metadata": {},
     "output_type": "execute_result"
    }
   ],
   "source": [
    "sum(s['extra']['status'] == 'online' for s in obj['network']['stations'])"
   ]
  },
  {
   "cell_type": "code",
   "execution_count": 76,
   "metadata": {},
   "outputs": [
    {
     "data": {
      "text/plain": [
       "159"
      ]
     },
     "execution_count": 76,
     "metadata": {},
     "output_type": "execute_result"
    }
   ],
   "source": [
    "sum(s['free_bikes'] for s in obj['network']['stations'])"
   ]
  },
  {
   "cell_type": "code",
   "execution_count": 77,
   "metadata": {},
   "outputs": [
    {
     "data": {
      "text/plain": [
       "695"
      ]
     },
     "execution_count": 77,
     "metadata": {},
     "output_type": "execute_result"
    }
   ],
   "source": [
    "sum(s['empty_slots'] for s in obj['network']['stations'])"
   ]
  },
  {
   "cell_type": "markdown",
   "metadata": {},
   "source": [
    "## 2.3 MNIST dataset"
   ]
  },
  {
   "cell_type": "code",
   "execution_count": 117,
   "metadata": {},
   "outputs": [],
   "source": [
    "with open(\"mnist_test.csv\") as f:\n",
    "    dataset = [\n",
    "        list(map(int, row))\n",
    "        for row\n",
    "        in csv.reader(f)\n",
    "    ]"
   ]
  },
  {
   "cell_type": "code",
   "execution_count": 118,
   "metadata": {},
   "outputs": [
    {
     "name": "stdout",
     "output_type": "stream",
     "text": [
      "                            \n",
      "                            \n",
      "                            \n",
      "                            \n",
      "                            \n",
      "              .#      **    \n",
      "             .##..*#####    \n",
      "            #########*.     \n",
      "           #####***.        \n",
      "          ##*               \n",
      "         *##                \n",
      "         ##                 \n",
      "        .##                 \n",
      "         ###*               \n",
      "         .#####.            \n",
      "            *###*           \n",
      "              *###*         \n",
      "                ###         \n",
      "                .##         \n",
      "                ###         \n",
      "              .###          \n",
      "        .    *###.          \n",
      "       .# .*###*            \n",
      "       .######.             \n",
      "        *##*.               \n",
      "                            \n",
      "                            \n",
      "                            \n"
     ]
    }
   ],
   "source": [
    "for row in range(28):\n",
    "    for col in range(28):\n",
    "        val = dataset[129][1 + row*28 + col]\n",
    "        if -1 < val < 64:\n",
    "            c = ' '\n",
    "        elif 63 < val < 128:\n",
    "            c = '.'\n",
    "        elif 127 < val < 192:\n",
    "            c = '*'\n",
    "        else:\n",
    "            c = \"#\"\n",
    "        print(c, end='')\n",
    "    print()"
   ]
  },
  {
   "cell_type": "code",
   "execution_count": 113,
   "metadata": {},
   "outputs": [],
   "source": [
    "def distance(v1, v2):\n",
    "    return sqrt(sum([(v1i - v2i)**2 for v1i, v2i in zip(v1, v2)]))"
   ]
  },
  {
   "cell_type": "code",
   "execution_count": 121,
   "metadata": {},
   "outputs": [],
   "source": [
    "from itertools import combinations"
   ]
  },
  {
   "cell_type": "code",
   "execution_count": 122,
   "metadata": {},
   "outputs": [
    {
     "data": {
      "text/plain": [
       "\u001b[0;31mInit signature:\u001b[0m \u001b[0mcombinations\u001b[0m\u001b[0;34m(\u001b[0m\u001b[0mself\u001b[0m\u001b[0;34m,\u001b[0m \u001b[0;34m/\u001b[0m\u001b[0;34m,\u001b[0m \u001b[0;34m*\u001b[0m\u001b[0margs\u001b[0m\u001b[0;34m,\u001b[0m \u001b[0;34m**\u001b[0m\u001b[0mkwargs\u001b[0m\u001b[0;34m)\u001b[0m\u001b[0;34m\u001b[0m\u001b[0;34m\u001b[0m\u001b[0m\n",
       "\u001b[0;31mDocstring:\u001b[0m     \n",
       "combinations(iterable, r) --> combinations object\n",
       "\n",
       "Return successive r-length combinations of elements in the iterable.\n",
       "\n",
       "combinations(range(4), 3) --> (0,1,2), (0,1,3), (0,2,3), (1,2,3)\n",
       "\u001b[0;31mType:\u001b[0m           type\n",
       "\u001b[0;31mSubclasses:\u001b[0m     \n"
      ]
     },
     "metadata": {},
     "output_type": "display_data"
    }
   ],
   "source": [
    "?combinations"
   ]
  },
  {
   "cell_type": "code",
   "execution_count": 127,
   "metadata": {},
   "outputs": [
    {
     "data": {
      "text/plain": [
       "[(26, 30), (26, 32), (26, 35), (30, 32), (30, 35), (32, 35)]"
      ]
     },
     "execution_count": 127,
     "metadata": {},
     "output_type": "execute_result"
    }
   ],
   "source": []
  },
  {
   "cell_type": "code",
   "execution_count": 131,
   "metadata": {},
   "outputs": [
    {
     "name": "stdout",
     "output_type": "stream",
     "text": [
      "d(26, 30) = 2438.1107439983116\n",
      "d(26, 32) = 2571.6028075890727\n",
      "d(26, 35) = 2762.777768840628\n",
      "d(30, 32) = 1945.9678825715496\n",
      "d(30, 35) = 2891.2089166990336\n",
      "d(32, 35) = 2946.2688268384472\n"
     ]
    }
   ],
   "source": [
    "for d1, d2 in combinations([26, 30, 32, 35], 2):\n",
    "    print(f\"d({d1}, {d2}) = {distance(dataset[d1][1:], dataset[d2][1:])}\")"
   ]
  }
 ],
 "metadata": {
  "kernelspec": {
   "display_name": "Python 3",
   "language": "python",
   "name": "python3"
  },
  "language_info": {
   "codemirror_mode": {
    "name": "ipython",
    "version": 3
   },
   "file_extension": ".py",
   "mimetype": "text/x-python",
   "name": "python",
   "nbconvert_exporter": "python",
   "pygments_lexer": "ipython3",
   "version": "3.6.9"
  }
 },
 "nbformat": 4,
 "nbformat_minor": 4
}
